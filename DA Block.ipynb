{
 "cells": [
  {
   "cell_type": "code",
   "execution_count": 1,
   "id": "a7c3d809-0286-41b2-8d4d-b82a23bb42bb",
   "metadata": {
    "execution": {
     "iopub.execute_input": "2025-04-04T02:44:52.034939Z",
     "iopub.status.busy": "2025-04-04T02:44:52.034648Z",
     "iopub.status.idle": "2025-04-04T02:44:54.278543Z",
     "shell.execute_reply": "2025-04-04T02:44:54.277643Z",
     "shell.execute_reply.started": "2025-04-04T02:44:52.034888Z"
    }
   },
   "outputs": [],
   "source": [
    "import pandas as pd\n",
    "import numpy as np\n",
    "import matplotlib.pyplot as plt\n",
    "import seaborn as sns\n",
    "\n"
   ]
  },
  {
   "cell_type": "code",
   "execution_count": 2,
   "id": "f72237f7-4661-4790-b81e-b7d1ec42156a",
   "metadata": {
    "execution": {
     "iopub.execute_input": "2025-04-04T02:45:26.875051Z",
     "iopub.status.busy": "2025-04-04T02:45:26.874730Z",
     "iopub.status.idle": "2025-04-04T02:45:26.878684Z",
     "shell.execute_reply": "2025-04-04T02:45:26.877913Z",
     "shell.execute_reply.started": "2025-04-04T02:45:26.875025Z"
    }
   },
   "outputs": [],
   "source": [
    "path='/kaggle/input/final-data/Final_data.csv'"
   ]
  },
  {
   "cell_type": "code",
   "execution_count": 3,
   "id": "5881f0b6-9b65-4542-91eb-541787578431",
   "metadata": {
    "execution": {
     "iopub.execute_input": "2025-04-04T02:45:29.074299Z",
     "iopub.status.busy": "2025-04-04T02:45:29.073968Z",
     "iopub.status.idle": "2025-04-04T02:45:29.765615Z",
     "shell.execute_reply": "2025-04-04T02:45:29.764725Z",
     "shell.execute_reply.started": "2025-04-04T02:45:29.074265Z"
    }
   },
   "outputs": [
    {
     "data": {
      "text/plain": [
       "0         2664.281900\n",
       "1         2698.868767\n",
       "2         2710.682853\n",
       "3         2696.470040\n",
       "4         2666.727600\n",
       "             ...     \n",
       "262747    5136.024902\n",
       "262748    5165.746387\n",
       "262749    5104.936882\n",
       "262750    5071.101107\n",
       "262751    4985.896029\n",
       "Name: Total Demand (as recorded), Length: 262752, dtype: float64"
      ]
     },
     "execution_count": 3,
     "metadata": {},
     "output_type": "execute_result"
    }
   ],
   "source": [
    "df=pd.read_csv(path)\n",
    "ts=df['Total Demand (as recorded)']\n",
    "ts"
   ]
  },
  {
   "cell_type": "code",
   "execution_count": 4,
   "id": "aa589dc7-3d91-4434-81f8-e41eb0f54aae",
   "metadata": {
    "execution": {
     "iopub.execute_input": "2025-04-04T02:45:30.872083Z",
     "iopub.status.busy": "2025-04-04T02:45:30.871777Z",
     "iopub.status.idle": "2025-04-04T02:45:30.884848Z",
     "shell.execute_reply": "2025-04-04T02:45:30.884086Z",
     "shell.execute_reply.started": "2025-04-04T02:45:30.872057Z"
    }
   },
   "outputs": [
    {
     "data": {
      "text/plain": [
       "0         2664.281900\n",
       "1         2698.868767\n",
       "2         2710.682853\n",
       "3         2696.470040\n",
       "4         2666.727600\n",
       "             ...     \n",
       "262747    5136.024902\n",
       "262748    5165.746387\n",
       "262749    5104.936882\n",
       "262750    5071.101107\n",
       "262751    4985.896029\n",
       "Name: Total Demand (as recorded), Length: 262752, dtype: float64"
      ]
     },
     "execution_count": 4,
     "metadata": {},
     "output_type": "execute_result"
    }
   ],
   "source": [
    "ts_diff1 = ts.dropna()\n",
    "ts_diff1"
   ]
  },
  {
   "cell_type": "code",
   "execution_count": 5,
   "id": "c64a0680-8215-4bcd-91a9-c29b3017954e",
   "metadata": {
    "execution": {
     "iopub.execute_input": "2025-04-04T02:45:32.397046Z",
     "iopub.status.busy": "2025-04-04T02:45:32.396763Z",
     "iopub.status.idle": "2025-04-04T02:45:32.407132Z",
     "shell.execute_reply": "2025-04-04T02:45:32.406303Z",
     "shell.execute_reply.started": "2025-04-04T02:45:32.397026Z"
    }
   },
   "outputs": [
    {
     "data": {
      "text/plain": [
       "262752"
      ]
     },
     "execution_count": 5,
     "metadata": {},
     "output_type": "execute_result"
    }
   ],
   "source": [
    "ts_diff1 = ts.dropna()\n",
    "ts_diff1_array = ts_diff1.values.reshape(-1, 1)\n",
    "len(ts_diff1_array)"
   ]
  },
  {
   "cell_type": "code",
   "execution_count": 6,
   "id": "5d00c321-8a1d-482a-9554-e2adcd53be6d",
   "metadata": {
    "execution": {
     "iopub.execute_input": "2025-04-04T02:45:34.222107Z",
     "iopub.status.busy": "2025-04-04T02:45:34.221802Z",
     "iopub.status.idle": "2025-04-04T02:45:35.047995Z",
     "shell.execute_reply": "2025-04-04T02:45:35.047305Z",
     "shell.execute_reply.started": "2025-04-04T02:45:34.222082Z"
    }
   },
   "outputs": [
    {
     "name": "stdout",
     "output_type": "stream",
     "text": [
      "Shape of X: (261984, 672, 1)\n",
      "Shape of y: (261984, 96, 1)\n"
     ]
    }
   ],
   "source": [
    "import numpy as np\n",
    "\n",
    "def create_sequences(data, past_window, future_window):\n",
    "    X, y = [], []\n",
    "    for i in range(len(data) - past_window - future_window):\n",
    "        X.append(data[i:i + past_window])  # Past 672 timestamps\n",
    "        y.append(data[i + past_window:i + past_window + future_window])  # Next 96 timestamps\n",
    "    return np.array(X), np.array(y)\n",
    "\n",
    "# Define past and future window\n",
    "past_window = 7 * 96  # 672 timesteps (7 days)\n",
    "future_window = 96  # 96 timesteps (1 day)\n",
    "\n",
    "# Create sequences\n",
    "X, y = create_sequences(ts_diff1_array, past_window, future_window)\n",
    "\n",
    "print(\"Shape of X:\", X.shape)  # (samples, 672, 1) -> Input for DA-RNN Encoder\n",
    "print(\"Shape of y:\", y.shape)  # (samples, 96, 1) -> Output for Decoder\n"
   ]
  },
  {
   "cell_type": "code",
   "execution_count": 7,
   "id": "c41a4c01-ce16-4456-8b31-06f037b5ce50",
   "metadata": {
    "execution": {
     "iopub.execute_input": "2025-04-04T02:45:35.049590Z",
     "iopub.status.busy": "2025-04-04T02:45:35.049259Z",
     "iopub.status.idle": "2025-04-04T02:45:35.055921Z",
     "shell.execute_reply": "2025-04-04T02:45:35.055302Z",
     "shell.execute_reply.started": "2025-04-04T02:45:35.049560Z"
    }
   },
   "outputs": [
    {
     "name": "stdout",
     "output_type": "stream",
     "text": [
      "Train: (183388, 672, 1) (183388, 96, 1)\n",
      "Validation: (52396, 672, 1) (52396, 96, 1)\n",
      "Test: (26200, 672, 1) (26200, 96, 1)\n"
     ]
    }
   ],
   "source": [
    "train_size = int(0.7 * len(X))  # 70% train\n",
    "val_size = int(0.2 * len(X))   # 15% validation\n",
    "test_size = len(X) - train_size - val_size  # Remaining 15% for test\n",
    "\n",
    "X_train, y_train = X[:train_size], y[:train_size]\n",
    "X_val, y_val = X[train_size:train_size + val_size], y[train_size:train_size + val_size]\n",
    "X_test, y_test = X[train_size + val_size:], y[train_size + val_size:]\n",
    "# Scale data\n",
    "\n",
    "print(\"Train:\", X_train.shape, y_train.shape)\n",
    "print(\"Validation:\", X_val.shape, y_val.shape)\n",
    "print(\"Test:\", X_test.shape, y_test.shape)"
   ]
  },
  {
   "cell_type": "code",
   "execution_count": 8,
   "id": "39c10b5f-1280-4412-af79-008f2320f4a6",
   "metadata": {
    "execution": {
     "iopub.execute_input": "2025-04-04T02:45:36.281927Z",
     "iopub.status.busy": "2025-04-04T02:45:36.281633Z",
     "iopub.status.idle": "2025-04-04T02:45:37.619310Z",
     "shell.execute_reply": "2025-04-04T02:45:37.618330Z",
     "shell.execute_reply.started": "2025-04-04T02:45:36.281907Z"
    }
   },
   "outputs": [],
   "source": [
    "from sklearn.preprocessing import MinMaxScaler\n",
    "\n",
    "# Initialize the scaler\n",
    "scaler_X = MinMaxScaler()\n",
    "scaler_y = MinMaxScaler()\n",
    "\n",
    "# Fit and transform the training data\n",
    "X_train_scaled = scaler_X.fit_transform(X_train.reshape(-1, X_train.shape[-1])).reshape(X_train.shape)\n",
    "y_train_scaled = scaler_y.fit_transform(y_train.reshape(-1, y_train.shape[-1])).reshape(y_train.shape)\n",
    "\n",
    "# Transform validation and test data using the same scaler (DO NOT FIT AGAIN)\n",
    "X_val_scaled = scaler_X.transform(X_val.reshape(-1, X_val.shape[-1])).reshape(X_val.shape)\n",
    "y_val_scaled = scaler_y.transform(y_val.reshape(-1, y_val.shape[-1])).reshape(y_val.shape)\n",
    "\n",
    "X_test_scaled = scaler_X.transform(X_test.reshape(-1, X_test.shape[-1])).reshape(X_test.shape)\n",
    "y_test_scaled = scaler_y.transform(y_test.reshape(-1, y_test.shape[-1])).reshape(y_test.shape)\n"
   ]
  },
  {
   "cell_type": "code",
   "execution_count": null,
   "id": "41916b93-0cc1-4e4b-b90d-9e4298741017",
   "metadata": {},
   "outputs": [],
   "source": [
    "Screenshot 2025-04-04 093456.png"
   ]
  },
  {
   "cell_type": "code",
   "execution_count": 21,
   "id": "b660fc26-5cbb-4b39-8030-5265c32492bf",
   "metadata": {
    "execution": {
     "iopub.execute_input": "2025-04-04T03:20:25.296086Z",
     "iopub.status.busy": "2025-04-04T03:20:25.295790Z",
     "iopub.status.idle": "2025-04-04T03:20:25.663425Z",
     "shell.execute_reply": "2025-04-04T03:20:25.662404Z",
     "shell.execute_reply.started": "2025-04-04T03:20:25.296063Z"
    }
   },
   "outputs": [
    {
     "name": "stderr",
     "output_type": "stream",
     "text": [
      "<ipython-input-21-d0dc1c6703f4>:399: FutureWarning: You are using `torch.load` with `weights_only=False` (the current default value), which uses the default pickle module implicitly. It is possible to construct malicious pickle data which will execute arbitrary code during unpickling (See https://github.com/pytorch/pytorch/blob/main/SECURITY.md#untrusted-models for more details). In a future release, the default value for `weights_only` will be flipped to `True`. This limits the functions that could be executed during unpickling. Arbitrary objects will no longer be allowed to be loaded via this mode unless they are explicitly allowlisted by the user via `torch.serialization.add_safe_globals`. We recommend you start setting `weights_only=True` for any use case where you don't have full control of the loaded file. Please open an issue on GitHub for any issues related to this experimental feature.\n",
      "  model.load_state_dict(torch.load(\"/kaggle/input/final_model/pytorch/default/1/best_model (5).pth\"))\n"
     ]
    },
    {
     "data": {
      "text/plain": [
       "<All keys matched successfully>"
      ]
     },
     "execution_count": 21,
     "metadata": {},
     "output_type": "execute_result"
    }
   ],
   "source": [
    "import torch\n",
    "import torch.nn as nn\n",
    "import torch.optim as optim\n",
    "import torch.nn.functional as F\n",
    "import numpy as np\n",
    "import matplotlib.pyplot as plt\n",
    "\n",
    "class Encoder(nn.Module):\n",
    "    \"\"\"Encoder for DA-RNN\"\"\"\n",
    "    def __init__(self, input_size, encoder_num_hidden, T):\n",
    "        super(Encoder, self).__init__()\n",
    "        self.T = T\n",
    "        self.encoder_num_hidden = encoder_num_hidden\n",
    "\n",
    "        self.lstm_layer = nn.LSTM(input_size=input_size,\n",
    "                                  hidden_size=encoder_num_hidden,\n",
    "                                  batch_first=True)\n",
    "\n",
    "    def forward(self, X):\n",
    "        # X shape: (batch_size, T, features)\n",
    "        _, (h_n, c_n) = self.lstm_layer(X)\n",
    "        return h_n, c_n\n",
    "\n",
    "class Decoder(nn.Module):\n",
    "    \"\"\"Decoder for DA-RNN\"\"\"\n",
    "    def __init__(self, T, decoder_num_hidden, encoder_num_hidden, output_size):\n",
    "        super(Decoder, self).__init__()\n",
    "        self.decoder_num_hidden = decoder_num_hidden\n",
    "        self.encoder_num_hidden = encoder_num_hidden\n",
    "        self.T = T\n",
    "        self.output_size = output_size  # Number of future steps to predict (96)\n",
    "\n",
    "        self.attn_layer = nn.Sequential(\n",
    "            nn.Linear(2 * decoder_num_hidden + encoder_num_hidden, encoder_num_hidden),\n",
    "            nn.Tanh(),\n",
    "            nn.Linear(encoder_num_hidden, 1)\n",
    "        )\n",
    "\n",
    "        self.lstm_layer = nn.LSTM(\n",
    "                            input_size=encoder_num_hidden + 1,  # Fix the input size\n",
    "                            hidden_size=decoder_num_hidden,\n",
    "                            batch_first=True\n",
    "                        )\n",
    "\n",
    "\n",
    "        self.fc_final = nn.Linear(decoder_num_hidden + encoder_num_hidden, output_size)\n",
    "\n",
    "    def forward(self, X_encoded, y_prev):\n",
    "        batch_size = X_encoded.shape[0]\n",
    "\n",
    "        d_n = torch.zeros(1, batch_size, self.decoder_num_hidden).to(X_encoded.device)\n",
    "        c_n = torch.zeros(1, batch_size, self.decoder_num_hidden).to(X_encoded.device)\n",
    "\n",
    "        for t in range(y_prev.shape[1]):  # Ensure valid indexing\n",
    "\n",
    "            x = torch.cat((d_n.repeat(X_encoded.shape[1], 1, 1).permute(1, 0, 2),\n",
    "                   c_n.repeat(X_encoded.shape[1], 1, 1).permute(1, 0, 2),\n",
    "                   X_encoded), dim=2)\n",
    "\n",
    "            seq_len = X_encoded.shape[1]  # Ensure sequence length is correct\n",
    "            beta = F.softmax(self.attn_layer(x.view(-1, 2 * self.decoder_num_hidden + self.encoder_num_hidden)).view(-1, seq_len), dim=1)\n",
    "\n",
    "\n",
    "            context = torch.bmm(beta.unsqueeze(1), X_encoded)[:, 0, :]\n",
    "\n",
    "            if t < self.T - 1:\n",
    "                y_tilde = torch.cat((context, y_prev[:, t].unsqueeze(1)), dim=1)\n",
    "                self.lstm_layer.flatten_parameters()\n",
    "                _, (d_n, c_n) = self.lstm_layer(y_tilde.unsqueeze(1), (d_n, c_n))\n",
    "\n",
    "        y_pred = self.fc_final(torch.cat((d_n[0], context), dim=1))\n",
    "        return y_pred\n",
    "import torch\n",
    "import torch.nn as nn\n",
    "import torch.optim as optim\n",
    "import numpy as np\n",
    "\n",
    "class DA_rnn(nn.Module):\n",
    "    \"\"\"DA-RNN model\"\"\"\n",
    "    def __init__(self, X, y, X_val, y_val, X_test, y_test, T, encoder_num_hidden, decoder_num_hidden, batch_size, learning_rate, epochs,scaler_X,scaler_y):\n",
    "        super(DA_rnn, self).__init__()\n",
    "        self.encoder_num_hidden = encoder_num_hidden\n",
    "        self.decoder_num_hidden = decoder_num_hidden\n",
    "        self.learning_rate = learning_rate\n",
    "        self.batch_size = batch_size\n",
    "        self.epochs = epochs\n",
    "        self.T = T\n",
    "        \n",
    "        # Store dataset\n",
    "        self.X, self.y = X, y  # Training Data\n",
    "        self.X_val, self.y_val = X_val, y_val  # Validation Data\n",
    "        self.X_test, self.y_test = X_test, y_test  # Test Data\n",
    "        self.output_size = y.shape[1]  # 96 time steps\n",
    "\n",
    "        self.device = torch.device('cuda' if torch.cuda.is_available() else 'cpu')\n",
    "\n",
    "        self.Encoder = Encoder(input_size=X.shape[2],\n",
    "                               encoder_num_hidden=encoder_num_hidden,\n",
    "                               T=T).to(self.device)\n",
    "\n",
    "        self.Decoder = Decoder(encoder_num_hidden=encoder_num_hidden,\n",
    "                               decoder_num_hidden=decoder_num_hidden,\n",
    "                               T=T,\n",
    "                               output_size=self.output_size).to(self.device)\n",
    "\n",
    "        self.encoder_optimizer = optim.Adam(self.Encoder.parameters(), lr=self.learning_rate)\n",
    "        self.decoder_optimizer = optim.Adam(self.Decoder.parameters(), lr=self.learning_rate)\n",
    "        self.scaler_X= scaler_X\n",
    "        self.scaler_y = scaler_y\n",
    "\n",
    "    def mse_loss(self, y_pred, y_true):\n",
    "        return torch.mean((y_true - y_pred) ** 2)\n",
    "    def mean_absolute_percentage_error(self,y_true, y_pred):\n",
    "        return np.mean(np.abs((y_true - y_pred) / y_true)) * 100\n",
    "\n",
    "    import matplotlib.pyplot as plt\n",
    "\n",
    "    import matplotlib.pyplot as plt\n",
    "    import numpy as np\n",
    "    \n",
    "    import numpy as np\n",
    "    \n",
    "    def evaluate(self, X_val, y_val, scaler):\n",
    "        \"\"\"Compute validation loss without updating weights, apply inverse scaling, and plot the first 600 points\"\"\"\n",
    "        self.Encoder.eval()\n",
    "        self.Decoder.eval()\n",
    "    \n",
    "        all_preds = []\n",
    "        all_actuals = []\n",
    "    \n",
    "        with torch.no_grad():\n",
    "            idx = 0\n",
    "            total_loss = 0\n",
    "            iter_count = int(np.ceil(X_val.shape[0] / self.batch_size))\n",
    "    \n",
    "            while idx < X_val.shape[0]:\n",
    "                indices = np.arange(idx, min(idx + self.batch_size, X_val.shape[0]))\n",
    "    \n",
    "                # Convert NumPy arrays to tensors\n",
    "                x_batch = torch.tensor(X_val[indices], dtype=torch.float32).to(self.device)\n",
    "                y_batch = torch.tensor(y_val[indices], dtype=torch.float32).to(self.device)\n",
    "    \n",
    "                h_n, c_n = self.Encoder(x_batch)\n",
    "                y_pred = self.Decoder(h_n.permute(1, 0, 2), y_batch[:, :-1, 0])\n",
    "    \n",
    "                loss = self.mse_loss(y_pred, y_batch[:, -96:, 0])\n",
    "                total_loss += loss.item()\n",
    "    \n",
    "                # Store values for inverse scaling & plotting\n",
    "                all_preds.append(y_pred.cpu().numpy())\n",
    "                all_actuals.append(y_batch[:, -96:, 0].cpu().numpy())\n",
    "    \n",
    "                idx += self.batch_size\n",
    "    \n",
    "        # Flatten arrays\n",
    "        y_pred_np = np.concatenate(all_preds).flatten()\n",
    "        y_actual_np = np.concatenate(all_actuals).flatten()\n",
    "    \n",
    "        # Apply inverse scaling\n",
    "        y_pred_np = scaler.inverse_transform(y_pred_np.reshape(-1, 1)).flatten()\n",
    "        y_actual_np = scaler.inverse_transform(y_actual_np.reshape(-1, 1)).flatten()\n",
    "    \n",
    "        # Select first 600 points\n",
    "        y_pred_np = y_pred_np[:600]\n",
    "        y_actual_np = y_actual_np[:600]\n",
    "    \n",
    "        # Compute MAPE loss\n",
    "        mape = np.mean(np.abs((y_actual_np - y_pred_np) / y_actual_np)) * 100\n",
    "        print(f\"MAPE Loss: {mape:.2f}%\")\n",
    "    \n",
    "        # Plot results\n",
    "        plt.figure(figsize=(12, 5))\n",
    "        plt.plot(y_actual_np, label=\"Actual\", color=\"blue\", alpha=0.7)\n",
    "        plt.plot(y_pred_np, label=\"Predicted\", color=\"red\", linestyle=\"dashed\", alpha=0.7)\n",
    "        \n",
    "        plt.xlabel(\"Time Step\")\n",
    "        plt.ylabel(\"Value\")\n",
    "        plt.title(\"Predicted vs Actual (First 600 Points) - Inverse Scaled\")\n",
    "        plt.legend()\n",
    "        plt.show()\n",
    "    \n",
    "        return total_loss / iter_count\n",
    "\n",
    "\n",
    "\n",
    "\n",
    "    def train(self):\n",
    "        iter_per_epoch = int(np.ceil(self.X.shape[0] / self.batch_size))\n",
    "        self.epoch_losses = np.zeros(self.epochs)\n",
    "        min_val_loss = float('inf')  # Initialize minimum validation loss\n",
    "\n",
    "        for epoch in range(self.epochs):\n",
    "            idx = 0\n",
    "            epoch_loss = 0\n",
    "\n",
    "            self.Encoder.train()\n",
    "            self.Decoder.train()\n",
    "\n",
    "            while idx < self.X.shape[0]:\n",
    "                indices = np.arange(idx, min(idx + self.batch_size, self.X.shape[0]))\n",
    "\n",
    "                # Convert NumPy arrays to tensors\n",
    "                x_batch = torch.tensor(self.X[indices], dtype=torch.float32).to(self.device)\n",
    "                y_batch = torch.tensor(self.y[indices], dtype=torch.float32).to(self.device)\n",
    "\n",
    "                self.encoder_optimizer.zero_grad()\n",
    "                self.decoder_optimizer.zero_grad()\n",
    "\n",
    "                h_n, c_n = self.Encoder(x_batch)\n",
    "                y_pred = self.Decoder(h_n.permute(1, 0, 2), y_batch[:, :-1, 0])\n",
    "\n",
    "                loss = self.mse_loss(y_pred, y_batch[:, -96:, 0])\n",
    "\n",
    "                loss.backward()\n",
    "                self.encoder_optimizer.step()\n",
    "                self.decoder_optimizer.step()\n",
    "\n",
    "                epoch_loss += loss.item()\n",
    "                idx += self.batch_size\n",
    "\n",
    "            avg_epoch_loss = epoch_loss / iter_per_epoch\n",
    "            self.epoch_losses[epoch] = avg_epoch_loss\n",
    "\n",
    "            # Compute validation loss\n",
    "            val_loss = self.evaluate(self.X_val, self.y_val,self.scaler_y)\n",
    "\n",
    "            # Save best model based on validation loss\n",
    "            if val_loss < min_val_loss:\n",
    "                min_val_loss = val_loss\n",
    "                torch.save(self.state_dict(), '/kaggle/working/best_model.pth')\n",
    "                print(f\"Epoch {epoch}: New best model saved with validation loss {min_val_loss:.4f}\")\n",
    "\n",
    "            if epoch % 2 == 0:\n",
    "                print(f\"Epoch {epoch}/{self.epochs}, Train Loss: {avg_epoch_loss:.4f}, Val Loss: {val_loss:.4f}\")\n",
    "\n",
    "    def test(self):\n",
    "        \"\"\"Test the model on test data\"\"\"\n",
    "        # Convert NumPy arrays to tensors\n",
    "        X_test = torch.tensor(self.X_test, dtype=torch.float32).to(self.device)\n",
    "        y_test = torch.tensor(self.y_test, dtype=torch.float32).to(self.device)\n",
    "    \n",
    "        self.Encoder.eval()\n",
    "        self.Decoder.eval()\n",
    "    \n",
    "        with torch.no_grad():\n",
    "            h_n, c_n = self.Encoder(X_test)\n",
    "            y_pred = self.Decoder(h_n.permute(1, 0, 2), y_test[:, :-1, 0])\n",
    "    \n",
    "        return y_pred.cpu().numpy(), y_test.cpu().numpy()\n",
    "\n",
    "# Define dataset shapes\n",
    "\n",
    "num_samples = 183388\n",
    "T = 96  # Input sequence length\n",
    "future_steps = 96  # Prediction steps\n",
    "\n",
    "# X = np.random.randn(num_samples, T, 1)  # Shape: (samples, T, features)\n",
    "# y = np.random.randn(num_samples, future_steps, 1)  # Shape: (samples, future_steps, targets)\n",
    "\n",
    "X_tensor = torch.tensor(X_train, dtype=torch.float32)\n",
    "y_tensor = torch.tensor(y_train, dtype=torch.float32)\n",
    "\n",
    "# Initialize DA-RNN with multi-step output\n",
    "# model = DA_rnn(X_tensor, y_tensor, T=T,\n",
    "#                encoder_num_hidden=64,\n",
    "#                decoder_num_hidden=64,\n",
    "#                batch_size=128,\n",
    "#                learning_rate=0.001,\n",
    "#                epochs=50)\n",
    "model = DA_rnn(X_train_scaled, y_train_scaled, X_val_scaled, y_val_scaled, X_test_scaled, y_test_scaled, T=T, encoder_num_hidden=64, decoder_num_hidden=64, batch_size=128, learning_rate=0.001, epochs=50,scaler_X=scaler_X,scaler_y=scaler_y)\n",
    "\n",
    "\n",
    "model.load_state_dict(torch.load(\"/kaggle/input/final_model/pytorch/default/1/best_model (5).pth\"))\n"
   ]
  },
  {
   "cell_type": "code",
   "execution_count": 26,
   "id": "10ed7321-3a28-4099-acd1-a947103d9aab",
   "metadata": {
    "execution": {
     "iopub.execute_input": "2025-04-03T18:47:45.669063Z",
     "iopub.status.busy": "2025-04-03T18:47:45.668696Z",
     "iopub.status.idle": "2025-04-03T22:21:11.206566Z",
     "shell.execute_reply": "2025-04-03T22:21:11.205359Z",
     "shell.execute_reply.started": "2025-04-03T18:47:45.669024Z"
    },
    "scrolled": true
   },
   "outputs": [
    {
     "name": "stdout",
     "output_type": "stream",
     "text": [
      "Epoch 0: New best model saved with validation loss 0.0239\n",
      "Epoch 0/50, Train Loss: 3.6966, Val Loss: 0.0239\n",
      "Epoch 1: New best model saved with validation loss 0.0085\n",
      "Epoch 2: New best model saved with validation loss 0.0067\n",
      "Epoch 2/50, Train Loss: 0.0079, Val Loss: 0.0067\n",
      "Epoch 4/50, Train Loss: 0.0077, Val Loss: 0.0083\n",
      "Epoch 6/50, Train Loss: 0.0076, Val Loss: 0.0095\n",
      "Epoch 8/50, Train Loss: 0.0077, Val Loss: 0.0093\n",
      "Epoch 10/50, Train Loss: 0.0076, Val Loss: 0.0091\n",
      "Epoch 12/50, Train Loss: 0.0073, Val Loss: 0.0088\n",
      "Epoch 14/50, Train Loss: 0.0071, Val Loss: 0.0086\n",
      "Epoch 16: New best model saved with validation loss 0.0056\n",
      "Epoch 16/50, Train Loss: 0.0053, Val Loss: 0.0056\n",
      "Epoch 17: New best model saved with validation loss 0.0044\n",
      "Epoch 18: New best model saved with validation loss 0.0035\n",
      "Epoch 18/50, Train Loss: 0.0039, Val Loss: 0.0035\n",
      "Epoch 19: New best model saved with validation loss 0.0031\n",
      "Epoch 20: New best model saved with validation loss 0.0029\n",
      "Epoch 20/50, Train Loss: 0.0029, Val Loss: 0.0029\n",
      "Epoch 21: New best model saved with validation loss 0.0027\n",
      "Epoch 22: New best model saved with validation loss 0.0025\n",
      "Epoch 22/50, Train Loss: 0.0025, Val Loss: 0.0025\n",
      "Epoch 23: New best model saved with validation loss 0.0021\n",
      "Epoch 24/50, Train Loss: 0.0014, Val Loss: 0.0021\n",
      "Epoch 25: New best model saved with validation loss 0.0015\n",
      "Epoch 26: New best model saved with validation loss 0.0013\n",
      "Epoch 26/50, Train Loss: 0.0009, Val Loss: 0.0013\n",
      "Epoch 27: New best model saved with validation loss 0.0011\n",
      "Epoch 28: New best model saved with validation loss 0.0011\n",
      "Epoch 28/50, Train Loss: 0.0006, Val Loss: 0.0011\n",
      "Epoch 29: New best model saved with validation loss 0.0010\n",
      "Epoch 30: New best model saved with validation loss 0.0010\n",
      "Epoch 30/50, Train Loss: 0.0006, Val Loss: 0.0010\n",
      "Epoch 31: New best model saved with validation loss 0.0009\n",
      "Epoch 32: New best model saved with validation loss 0.0009\n",
      "Epoch 32/50, Train Loss: 0.0005, Val Loss: 0.0009\n",
      "Epoch 33: New best model saved with validation loss 0.0009\n",
      "Epoch 34: New best model saved with validation loss 0.0009\n",
      "Epoch 34/50, Train Loss: 0.0005, Val Loss: 0.0009\n",
      "Epoch 35: New best model saved with validation loss 0.0008\n",
      "Epoch 36: New best model saved with validation loss 0.0008\n",
      "Epoch 36/50, Train Loss: 0.0004, Val Loss: 0.0008\n",
      "Epoch 37: New best model saved with validation loss 0.0007\n",
      "Epoch 38: New best model saved with validation loss 0.0007\n",
      "Epoch 38/50, Train Loss: 0.0004, Val Loss: 0.0007\n"
     ]
    },
    {
     "ename": "KeyboardInterrupt",
     "evalue": "",
     "output_type": "error",
     "traceback": [
      "\u001b[0;31m---------------------------------------------------------------------------\u001b[0m",
      "\u001b[0;31mKeyboardInterrupt\u001b[0m                         Traceback (most recent call last)",
      "\u001b[0;32m<ipython-input-26-c72315b99576>\u001b[0m in \u001b[0;36m<cell line: 1>\u001b[0;34m()\u001b[0m\n\u001b[0;32m----> 1\u001b[0;31m \u001b[0mmodel\u001b[0m\u001b[0;34m.\u001b[0m\u001b[0mtrain\u001b[0m\u001b[0;34m(\u001b[0m\u001b[0;34m)\u001b[0m\u001b[0;34m\u001b[0m\u001b[0;34m\u001b[0m\u001b[0m\n\u001b[0m",
      "\u001b[0;32m<ipython-input-25-f3ebfa69801e>\u001b[0m in \u001b[0;36mtrain\u001b[0;34m(self)\u001b[0m\n\u001b[1;32m    301\u001b[0m \u001b[0;34m\u001b[0m\u001b[0m\n\u001b[1;32m    302\u001b[0m             \u001b[0;31m# Compute validation loss\u001b[0m\u001b[0;34m\u001b[0m\u001b[0;34m\u001b[0m\u001b[0m\n\u001b[0;32m--> 303\u001b[0;31m             \u001b[0mval_loss\u001b[0m \u001b[0;34m=\u001b[0m \u001b[0mself\u001b[0m\u001b[0;34m.\u001b[0m\u001b[0mevaluate\u001b[0m\u001b[0;34m(\u001b[0m\u001b[0mself\u001b[0m\u001b[0;34m.\u001b[0m\u001b[0mX_val\u001b[0m\u001b[0;34m,\u001b[0m \u001b[0mself\u001b[0m\u001b[0;34m.\u001b[0m\u001b[0my_val\u001b[0m\u001b[0;34m)\u001b[0m\u001b[0;34m\u001b[0m\u001b[0;34m\u001b[0m\u001b[0m\n\u001b[0m\u001b[1;32m    304\u001b[0m \u001b[0;34m\u001b[0m\u001b[0m\n\u001b[1;32m    305\u001b[0m             \u001b[0;31m# Save best model based on validation loss\u001b[0m\u001b[0;34m\u001b[0m\u001b[0;34m\u001b[0m\u001b[0m\n",
      "\u001b[0;32m<ipython-input-25-f3ebfa69801e>\u001b[0m in \u001b[0;36mevaluate\u001b[0;34m(self, X_val, y_val)\u001b[0m\n\u001b[1;32m    254\u001b[0m \u001b[0;34m\u001b[0m\u001b[0m\n\u001b[1;32m    255\u001b[0m                 \u001b[0mh_n\u001b[0m\u001b[0;34m,\u001b[0m \u001b[0mc_n\u001b[0m \u001b[0;34m=\u001b[0m \u001b[0mself\u001b[0m\u001b[0;34m.\u001b[0m\u001b[0mEncoder\u001b[0m\u001b[0;34m(\u001b[0m\u001b[0mx_batch\u001b[0m\u001b[0;34m)\u001b[0m\u001b[0;34m\u001b[0m\u001b[0;34m\u001b[0m\u001b[0m\n\u001b[0;32m--> 256\u001b[0;31m                 \u001b[0my_pred\u001b[0m \u001b[0;34m=\u001b[0m \u001b[0mself\u001b[0m\u001b[0;34m.\u001b[0m\u001b[0mDecoder\u001b[0m\u001b[0;34m(\u001b[0m\u001b[0mh_n\u001b[0m\u001b[0;34m.\u001b[0m\u001b[0mpermute\u001b[0m\u001b[0;34m(\u001b[0m\u001b[0;36m1\u001b[0m\u001b[0;34m,\u001b[0m \u001b[0;36m0\u001b[0m\u001b[0;34m,\u001b[0m \u001b[0;36m2\u001b[0m\u001b[0;34m)\u001b[0m\u001b[0;34m,\u001b[0m \u001b[0my_batch\u001b[0m\u001b[0;34m[\u001b[0m\u001b[0;34m:\u001b[0m\u001b[0;34m,\u001b[0m \u001b[0;34m:\u001b[0m\u001b[0;34m-\u001b[0m\u001b[0;36m1\u001b[0m\u001b[0;34m,\u001b[0m \u001b[0;36m0\u001b[0m\u001b[0;34m]\u001b[0m\u001b[0;34m)\u001b[0m\u001b[0;34m\u001b[0m\u001b[0;34m\u001b[0m\u001b[0m\n\u001b[0m\u001b[1;32m    257\u001b[0m \u001b[0;34m\u001b[0m\u001b[0m\n\u001b[1;32m    258\u001b[0m                 \u001b[0mloss\u001b[0m \u001b[0;34m=\u001b[0m \u001b[0mself\u001b[0m\u001b[0;34m.\u001b[0m\u001b[0mmse_loss\u001b[0m\u001b[0;34m(\u001b[0m\u001b[0my_pred\u001b[0m\u001b[0;34m,\u001b[0m \u001b[0my_batch\u001b[0m\u001b[0;34m[\u001b[0m\u001b[0;34m:\u001b[0m\u001b[0;34m,\u001b[0m \u001b[0;34m-\u001b[0m\u001b[0;36m96\u001b[0m\u001b[0;34m:\u001b[0m\u001b[0;34m,\u001b[0m \u001b[0;36m0\u001b[0m\u001b[0;34m]\u001b[0m\u001b[0;34m)\u001b[0m\u001b[0;34m\u001b[0m\u001b[0;34m\u001b[0m\u001b[0m\n",
      "\u001b[0;32m/usr/local/lib/python3.10/dist-packages/torch/nn/modules/module.py\u001b[0m in \u001b[0;36m_wrapped_call_impl\u001b[0;34m(self, *args, **kwargs)\u001b[0m\n\u001b[1;32m   1734\u001b[0m             \u001b[0;32mreturn\u001b[0m \u001b[0mself\u001b[0m\u001b[0;34m.\u001b[0m\u001b[0m_compiled_call_impl\u001b[0m\u001b[0;34m(\u001b[0m\u001b[0;34m*\u001b[0m\u001b[0margs\u001b[0m\u001b[0;34m,\u001b[0m \u001b[0;34m**\u001b[0m\u001b[0mkwargs\u001b[0m\u001b[0;34m)\u001b[0m  \u001b[0;31m# type: ignore[misc]\u001b[0m\u001b[0;34m\u001b[0m\u001b[0;34m\u001b[0m\u001b[0m\n\u001b[1;32m   1735\u001b[0m         \u001b[0;32melse\u001b[0m\u001b[0;34m:\u001b[0m\u001b[0;34m\u001b[0m\u001b[0;34m\u001b[0m\u001b[0m\n\u001b[0;32m-> 1736\u001b[0;31m             \u001b[0;32mreturn\u001b[0m \u001b[0mself\u001b[0m\u001b[0;34m.\u001b[0m\u001b[0m_call_impl\u001b[0m\u001b[0;34m(\u001b[0m\u001b[0;34m*\u001b[0m\u001b[0margs\u001b[0m\u001b[0;34m,\u001b[0m \u001b[0;34m**\u001b[0m\u001b[0mkwargs\u001b[0m\u001b[0;34m)\u001b[0m\u001b[0;34m\u001b[0m\u001b[0;34m\u001b[0m\u001b[0m\n\u001b[0m\u001b[1;32m   1737\u001b[0m \u001b[0;34m\u001b[0m\u001b[0m\n\u001b[1;32m   1738\u001b[0m     \u001b[0;31m# torchrec tests the code consistency with the following code\u001b[0m\u001b[0;34m\u001b[0m\u001b[0;34m\u001b[0m\u001b[0m\n",
      "\u001b[0;32m/usr/local/lib/python3.10/dist-packages/torch/nn/modules/module.py\u001b[0m in \u001b[0;36m_call_impl\u001b[0;34m(self, *args, **kwargs)\u001b[0m\n\u001b[1;32m   1745\u001b[0m                 \u001b[0;32mor\u001b[0m \u001b[0m_global_backward_pre_hooks\u001b[0m \u001b[0;32mor\u001b[0m \u001b[0m_global_backward_hooks\u001b[0m\u001b[0;34m\u001b[0m\u001b[0;34m\u001b[0m\u001b[0m\n\u001b[1;32m   1746\u001b[0m                 or _global_forward_hooks or _global_forward_pre_hooks):\n\u001b[0;32m-> 1747\u001b[0;31m             \u001b[0;32mreturn\u001b[0m \u001b[0mforward_call\u001b[0m\u001b[0;34m(\u001b[0m\u001b[0;34m*\u001b[0m\u001b[0margs\u001b[0m\u001b[0;34m,\u001b[0m \u001b[0;34m**\u001b[0m\u001b[0mkwargs\u001b[0m\u001b[0;34m)\u001b[0m\u001b[0;34m\u001b[0m\u001b[0;34m\u001b[0m\u001b[0m\n\u001b[0m\u001b[1;32m   1748\u001b[0m \u001b[0;34m\u001b[0m\u001b[0m\n\u001b[1;32m   1749\u001b[0m         \u001b[0mresult\u001b[0m \u001b[0;34m=\u001b[0m \u001b[0;32mNone\u001b[0m\u001b[0;34m\u001b[0m\u001b[0;34m\u001b[0m\u001b[0m\n",
      "\u001b[0;32m<ipython-input-25-f3ebfa69801e>\u001b[0m in \u001b[0;36mforward\u001b[0;34m(self, X_encoded, y_prev)\u001b[0m\n\u001b[1;32m     67\u001b[0m                 \u001b[0my_tilde\u001b[0m \u001b[0;34m=\u001b[0m \u001b[0mtorch\u001b[0m\u001b[0;34m.\u001b[0m\u001b[0mcat\u001b[0m\u001b[0;34m(\u001b[0m\u001b[0;34m(\u001b[0m\u001b[0mcontext\u001b[0m\u001b[0;34m,\u001b[0m \u001b[0my_prev\u001b[0m\u001b[0;34m[\u001b[0m\u001b[0;34m:\u001b[0m\u001b[0;34m,\u001b[0m \u001b[0mt\u001b[0m\u001b[0;34m]\u001b[0m\u001b[0;34m.\u001b[0m\u001b[0munsqueeze\u001b[0m\u001b[0;34m(\u001b[0m\u001b[0;36m1\u001b[0m\u001b[0;34m)\u001b[0m\u001b[0;34m)\u001b[0m\u001b[0;34m,\u001b[0m \u001b[0mdim\u001b[0m\u001b[0;34m=\u001b[0m\u001b[0;36m1\u001b[0m\u001b[0;34m)\u001b[0m\u001b[0;34m\u001b[0m\u001b[0;34m\u001b[0m\u001b[0m\n\u001b[1;32m     68\u001b[0m                 \u001b[0mself\u001b[0m\u001b[0;34m.\u001b[0m\u001b[0mlstm_layer\u001b[0m\u001b[0;34m.\u001b[0m\u001b[0mflatten_parameters\u001b[0m\u001b[0;34m(\u001b[0m\u001b[0;34m)\u001b[0m\u001b[0;34m\u001b[0m\u001b[0;34m\u001b[0m\u001b[0m\n\u001b[0;32m---> 69\u001b[0;31m                 \u001b[0m_\u001b[0m\u001b[0;34m,\u001b[0m \u001b[0;34m(\u001b[0m\u001b[0md_n\u001b[0m\u001b[0;34m,\u001b[0m \u001b[0mc_n\u001b[0m\u001b[0;34m)\u001b[0m \u001b[0;34m=\u001b[0m \u001b[0mself\u001b[0m\u001b[0;34m.\u001b[0m\u001b[0mlstm_layer\u001b[0m\u001b[0;34m(\u001b[0m\u001b[0my_tilde\u001b[0m\u001b[0;34m.\u001b[0m\u001b[0munsqueeze\u001b[0m\u001b[0;34m(\u001b[0m\u001b[0;36m1\u001b[0m\u001b[0;34m)\u001b[0m\u001b[0;34m,\u001b[0m \u001b[0;34m(\u001b[0m\u001b[0md_n\u001b[0m\u001b[0;34m,\u001b[0m \u001b[0mc_n\u001b[0m\u001b[0;34m)\u001b[0m\u001b[0;34m)\u001b[0m\u001b[0;34m\u001b[0m\u001b[0;34m\u001b[0m\u001b[0m\n\u001b[0m\u001b[1;32m     70\u001b[0m \u001b[0;34m\u001b[0m\u001b[0m\n\u001b[1;32m     71\u001b[0m         \u001b[0my_pred\u001b[0m \u001b[0;34m=\u001b[0m \u001b[0mself\u001b[0m\u001b[0;34m.\u001b[0m\u001b[0mfc_final\u001b[0m\u001b[0;34m(\u001b[0m\u001b[0mtorch\u001b[0m\u001b[0;34m.\u001b[0m\u001b[0mcat\u001b[0m\u001b[0;34m(\u001b[0m\u001b[0;34m(\u001b[0m\u001b[0md_n\u001b[0m\u001b[0;34m[\u001b[0m\u001b[0;36m0\u001b[0m\u001b[0;34m]\u001b[0m\u001b[0;34m,\u001b[0m \u001b[0mcontext\u001b[0m\u001b[0;34m)\u001b[0m\u001b[0;34m,\u001b[0m \u001b[0mdim\u001b[0m\u001b[0;34m=\u001b[0m\u001b[0;36m1\u001b[0m\u001b[0;34m)\u001b[0m\u001b[0;34m)\u001b[0m\u001b[0;34m\u001b[0m\u001b[0;34m\u001b[0m\u001b[0m\n",
      "\u001b[0;32m/usr/local/lib/python3.10/dist-packages/torch/nn/modules/module.py\u001b[0m in \u001b[0;36m_wrapped_call_impl\u001b[0;34m(self, *args, **kwargs)\u001b[0m\n\u001b[1;32m   1734\u001b[0m             \u001b[0;32mreturn\u001b[0m \u001b[0mself\u001b[0m\u001b[0;34m.\u001b[0m\u001b[0m_compiled_call_impl\u001b[0m\u001b[0;34m(\u001b[0m\u001b[0;34m*\u001b[0m\u001b[0margs\u001b[0m\u001b[0;34m,\u001b[0m \u001b[0;34m**\u001b[0m\u001b[0mkwargs\u001b[0m\u001b[0;34m)\u001b[0m  \u001b[0;31m# type: ignore[misc]\u001b[0m\u001b[0;34m\u001b[0m\u001b[0;34m\u001b[0m\u001b[0m\n\u001b[1;32m   1735\u001b[0m         \u001b[0;32melse\u001b[0m\u001b[0;34m:\u001b[0m\u001b[0;34m\u001b[0m\u001b[0;34m\u001b[0m\u001b[0m\n\u001b[0;32m-> 1736\u001b[0;31m             \u001b[0;32mreturn\u001b[0m \u001b[0mself\u001b[0m\u001b[0;34m.\u001b[0m\u001b[0m_call_impl\u001b[0m\u001b[0;34m(\u001b[0m\u001b[0;34m*\u001b[0m\u001b[0margs\u001b[0m\u001b[0;34m,\u001b[0m \u001b[0;34m**\u001b[0m\u001b[0mkwargs\u001b[0m\u001b[0;34m)\u001b[0m\u001b[0;34m\u001b[0m\u001b[0;34m\u001b[0m\u001b[0m\n\u001b[0m\u001b[1;32m   1737\u001b[0m \u001b[0;34m\u001b[0m\u001b[0m\n\u001b[1;32m   1738\u001b[0m     \u001b[0;31m# torchrec tests the code consistency with the following code\u001b[0m\u001b[0;34m\u001b[0m\u001b[0;34m\u001b[0m\u001b[0m\n",
      "\u001b[0;32m/usr/local/lib/python3.10/dist-packages/torch/nn/modules/module.py\u001b[0m in \u001b[0;36m_call_impl\u001b[0;34m(self, *args, **kwargs)\u001b[0m\n\u001b[1;32m   1745\u001b[0m                 \u001b[0;32mor\u001b[0m \u001b[0m_global_backward_pre_hooks\u001b[0m \u001b[0;32mor\u001b[0m \u001b[0m_global_backward_hooks\u001b[0m\u001b[0;34m\u001b[0m\u001b[0;34m\u001b[0m\u001b[0m\n\u001b[1;32m   1746\u001b[0m                 or _global_forward_hooks or _global_forward_pre_hooks):\n\u001b[0;32m-> 1747\u001b[0;31m             \u001b[0;32mreturn\u001b[0m \u001b[0mforward_call\u001b[0m\u001b[0;34m(\u001b[0m\u001b[0;34m*\u001b[0m\u001b[0margs\u001b[0m\u001b[0;34m,\u001b[0m \u001b[0;34m**\u001b[0m\u001b[0mkwargs\u001b[0m\u001b[0;34m)\u001b[0m\u001b[0;34m\u001b[0m\u001b[0;34m\u001b[0m\u001b[0m\n\u001b[0m\u001b[1;32m   1748\u001b[0m \u001b[0;34m\u001b[0m\u001b[0m\n\u001b[1;32m   1749\u001b[0m         \u001b[0mresult\u001b[0m \u001b[0;34m=\u001b[0m \u001b[0;32mNone\u001b[0m\u001b[0;34m\u001b[0m\u001b[0;34m\u001b[0m\u001b[0m\n",
      "\u001b[0;32m/usr/local/lib/python3.10/dist-packages/torch/nn/modules/rnn.py\u001b[0m in \u001b[0;36mforward\u001b[0;34m(self, input, hx)\u001b[0m\n\u001b[1;32m   1121\u001b[0m \u001b[0;34m\u001b[0m\u001b[0m\n\u001b[1;32m   1122\u001b[0m         \u001b[0;32mif\u001b[0m \u001b[0mbatch_sizes\u001b[0m \u001b[0;32mis\u001b[0m \u001b[0;32mNone\u001b[0m\u001b[0;34m:\u001b[0m\u001b[0;34m\u001b[0m\u001b[0;34m\u001b[0m\u001b[0m\n\u001b[0;32m-> 1123\u001b[0;31m             result = _VF.lstm(\n\u001b[0m\u001b[1;32m   1124\u001b[0m                 \u001b[0minput\u001b[0m\u001b[0;34m,\u001b[0m\u001b[0;34m\u001b[0m\u001b[0;34m\u001b[0m\u001b[0m\n\u001b[1;32m   1125\u001b[0m                 \u001b[0mhx\u001b[0m\u001b[0;34m,\u001b[0m\u001b[0;34m\u001b[0m\u001b[0;34m\u001b[0m\u001b[0m\n",
      "\u001b[0;31mKeyboardInterrupt\u001b[0m: "
     ]
    }
   ],
   "source": [
    "model.train()"
   ]
  },
  {
   "cell_type": "code",
   "execution_count": null,
   "id": "69ece9bd-fbb2-42bf-8110-58a1d79b2b6d",
   "metadata": {},
   "outputs": [],
   "source": [
    "torch.save(model.state_dict(), '/kaggle/working/best_model.pth')"
   ]
  },
  {
   "cell_type": "code",
   "execution_count": 4,
   "id": "f754683f-b4e3-46ab-bfca-d948bb791bc2",
   "metadata": {},
   "outputs": [
    {
     "data": {
      "image/png": "[encoded data removed]",
      "text/plain": [
       "<IPython.core.display.Image object>"
      ]
     },
     "metadata": {},
     "output_type": "display_data"
    }
   ],
   "source": [
    "y_pred_np,y_actual_np = model.test(on_train=False)\n",
    "y_pred_np = scaler.inverse_transform(y_pred_np.reshape(-1, 1)).flatten()\n",
    "y_actual_np = scaler.inverse_transform(y_actual_np.reshape(-1, 1)).flatten()\n",
    "\n",
    "plt.figure(figsize=(12, 5))\n",
    "plt.plot(y_actual_np, label=\"Actual\", color=\"blue\", alpha=0.7)\n",
    "plt.plot(y_pred_np, label=\"Predicted\", color=\"red\", linestyle=\"dashed\", alpha=0.7)\n",
    "        \n",
    "plt.xlabel(\"Time Step\")\n",
    "plt.ylabel(\"Value\")\n",
    "plt.title(\"Predicted vs Actual (First 600 Points) - Inverse Scaled\")\n",
    "plt.legend()\n",
    "plt.show()"
   ]
  },
  {
   "cell_type": "code",
   "execution_count": 6,
   "id": "f0f511e7-f818-4c3f-9474-faf0e11eee73",
   "metadata": {},
   "outputs": [
    {
     "name": "stdout",
     "output_type": "stream",
     "text": [
      "MAPE Loss: 5.52\n"
     ]
    }
   ],
   "source": [
    "def mean_absolute_percentage_error(y_true, y_pred):\n",
    "        return np.mean(np.abs((y_true - y_pred) / y_true)) * 100\n",
    "loss=mean_absolute_percentage_error(y_pred_np,y_actual_np)\n",
    "\n",
    "print('MAPE Loss:',loss)"
   ]
  },
  {
   "cell_type": "code",
   "execution_count": 23,
   "id": "f6a4d156-2753-41b5-8353-9ae3ef713e79",
   "metadata": {
    "execution": {
     "iopub.execute_input": "2025-04-03T18:45:05.847456Z",
     "iopub.status.busy": "2025-04-03T18:45:05.847118Z",
     "iopub.status.idle": "2025-04-03T18:45:05.854617Z",
     "shell.execute_reply": "2025-04-03T18:45:05.853831Z",
     "shell.execute_reply.started": "2025-04-03T18:45:05.847436Z"
    }
   },
   "outputs": [],
   "source": [
    "torch.save(model.state_dict(), '/kaggle/working/best_model.pth')"
   ]
  },
  {
   "cell_type": "code",
   "execution_count": null,
   "id": "345eed59-524e-44df-be9d-fbb705d06d3b",
   "metadata": {},
   "outputs": [],
   "source": []
  },
  {
   "cell_type": "code",
   "execution_count": null,
   "id": "1e794fcb-8482-4788-90c5-39c95fe52009",
   "metadata": {},
   "outputs": [],
   "source": []
  },
  {
   "cell_type": "code",
   "execution_count": null,
   "id": "fc4d85e5-a21c-4c1c-a2d9-1a47232307d8",
   "metadata": {},
   "outputs": [],
   "source": []
  },
  {
   "cell_type": "code",
   "execution_count": null,
   "id": "4b6c6125-c476-4492-bc0f-ff833ecc5a47",
   "metadata": {},
   "outputs": [],
   "source": []
  },
  {
   "cell_type": "code",
   "execution_count": null,
   "id": "8a8be79a-fa52-4071-a63c-763f6c98770f",
   "metadata": {},
   "outputs": [],
   "source": []
  },
  {
   "cell_type": "code",
   "execution_count": null,
   "id": "30bda6ab-2f7a-4c53-94b4-d1cd9719b4d2",
   "metadata": {},
   "outputs": [],
   "source": []
  },
  {
   "cell_type": "code",
   "execution_count": null,
   "id": "ef8c7735-7561-4d6f-9c2b-acaf53d1833c",
   "metadata": {},
   "outputs": [],
   "source": []
  },
  {
   "cell_type": "code",
   "execution_count": null,
   "id": "383935dc-76b7-407c-968d-2812d34b7bac",
   "metadata": {},
   "outputs": [],
   "source": []
  },
  {
   "cell_type": "code",
   "execution_count": null,
   "id": "7b935c51-b2cb-44fb-a2c6-e556c0801a98",
   "metadata": {},
   "outputs": [],
   "source": []
  },
  {
   "cell_type": "code",
   "execution_count": null,
   "id": "1fce45e7-65c9-4595-b234-f018cd967781",
   "metadata": {},
   "outputs": [],
   "source": []
  },
  {
   "cell_type": "code",
   "execution_count": null,
   "id": "759f28af-5de5-4582-a6af-3f802e9d9d2a",
   "metadata": {},
   "outputs": [],
   "source": []
  },
  {
   "cell_type": "code",
   "execution_count": null,
   "id": "27d01394-212a-48f7-85d1-832023fa956a",
   "metadata": {},
   "outputs": [],
   "source": []
  },
  {
   "cell_type": "code",
   "execution_count": null,
   "id": "78876d84-8031-4485-9f6d-cc28d441ff85",
   "metadata": {},
   "outputs": [],
   "source": []
  },
  {
   "cell_type": "code",
   "execution_count": null,
   "id": "06b77111-76af-47ba-92f2-bb81e05c0b48",
   "metadata": {},
   "outputs": [],
   "source": []
  },
  {
   "cell_type": "code",
   "execution_count": null,
   "id": "bf35b35a-c477-4954-bb5f-6f4afb07797a",
   "metadata": {},
   "outputs": [],
   "source": []
  },
  {
   "cell_type": "code",
   "execution_count": null,
   "id": "1d9cdaf3-f674-48fe-84ff-6244daf6862b",
   "metadata": {},
   "outputs": [],
   "source": []
  },
  {
   "cell_type": "code",
   "execution_count": null,
   "id": "f93113cd-23b7-44e6-b2ab-be735a939813",
   "metadata": {},
   "outputs": [],
   "source": []
  },
  {
   "cell_type": "code",
   "execution_count": null,
   "id": "0251986e-ef9b-42dd-8827-7c7f22753ab7",
   "metadata": {},
   "outputs": [],
   "source": []
  },
  {
   "cell_type": "code",
   "execution_count": null,
   "id": "9115bfbd-e3e6-49ce-a118-0ddb8314fdc9",
   "metadata": {},
   "outputs": [],
   "source": []
  },
  {
   "cell_type": "code",
   "execution_count": null,
   "id": "7c596a0b-555f-4b8c-b7ae-c06d32073b15",
   "metadata": {},
   "outputs": [],
   "source": []
  },
  {
   "cell_type": "code",
   "execution_count": null,
   "id": "8d7c4c49-eb26-42ce-a88d-c412140a5abf",
   "metadata": {},
   "outputs": [],
   "source": []
  },
  {
   "cell_type": "code",
   "execution_count": null,
   "id": "e0869d86-8786-453b-994e-decde0f5fc9d",
   "metadata": {},
   "outputs": [],
   "source": []
  },
  {
   "cell_type": "code",
   "execution_count": null,
   "id": "3d6817cf-4e6f-44bb-ac84-c511b987b306",
   "metadata": {},
   "outputs": [],
   "source": []
  },
  {
   "cell_type": "code",
   "execution_count": null,
   "id": "58fb4d13-a7ae-483a-8628-04fa949854b7",
   "metadata": {},
   "outputs": [],
   "source": []
  },
  {
   "cell_type": "code",
   "execution_count": null,
   "id": "8fa13f05-7589-4af2-a6d2-539ab3f2d3c3",
   "metadata": {},
   "outputs": [],
   "source": []
  },
  {
   "cell_type": "code",
   "execution_count": 11,
   "id": "bb208710-15e3-40a2-b18a-f661f00863dc",
   "metadata": {
    "execution": {
     "iopub.execute_input": "2025-04-04T02:49:11.213783Z",
     "iopub.status.busy": "2025-04-04T02:49:11.213410Z",
     "iopub.status.idle": "2025-04-04T02:49:11.222824Z",
     "shell.execute_reply": "2025-04-04T02:49:11.221963Z",
     "shell.execute_reply.started": "2025-04-04T02:49:11.213756Z"
    }
   },
   "outputs": [],
   "source": [
    "import torch\n",
    "torch.cuda.empty_cache()\n"
   ]
  },
  {
   "cell_type": "code",
   "execution_count": null,
   "id": "e7a03a0d-f6ab-407e-bc71-8acb866b7fb6",
   "metadata": {},
   "outputs": [],
   "source": [
    "# Reshape actual values and predictions for inverse transformation\n",
    "y_test_reshaped = y_test_scaled.reshape(-1, 1)\n",
    "test_preds_reshaped = test_preds.reshape(-1, 1)  # Assuming test_preds contains model predictions\n",
    "\n",
    "# Inverse transform `y_test`\n",
    "y_test_inv = scaler_y.inverse_transform(\n",
    "    np.concatenate(\n",
    "        (y_test_reshaped, np.zeros((y_test_reshaped.shape[0], y_train.shape[-1] - 1))), axis=1)\n",
    ")[:, 0]  # Extract the first column (actual target values)\n",
    "\n",
    "# Inverse transform `test_preds`\n",
    "test_preds_inv = scaler_y.inverse_transform(\n",
    "    np.concatenate(\n",
    "        (test_preds_reshaped, np.zeros((test_preds_reshaped.shape[0], y_train.shape[-1] - 1))), axis=1)\n",
    ")[:, 0]  # Extract the first column (predicted values)\n"
   ]
  },
  {
   "cell_type": "code",
   "execution_count": 17,
   "id": "85961fea-31fd-458f-abdd-7c16b6775099",
   "metadata": {
    "execution": {
     "iopub.execute_input": "2025-03-27T19:58:42.035543Z",
     "iopub.status.busy": "2025-03-27T19:58:42.035227Z",
     "iopub.status.idle": "2025-03-27T19:58:42.041796Z",
     "shell.execute_reply": "2025-03-27T19:58:42.041206Z",
     "shell.execute_reply.started": "2025-03-27T19:58:42.035517Z"
    }
   },
   "outputs": [],
   "source": [
    "torch.save(model.state_dict(), '/kaggle/working/best_model.pth')"
   ]
  },
  {
   "cell_type": "code",
   "execution_count": 31,
   "id": "a708a4b9-6eee-4887-b4bd-afd92b82c680",
   "metadata": {
    "execution": {
     "iopub.execute_input": "2025-03-28T04:19:47.046780Z",
     "iopub.status.busy": "2025-03-28T04:19:47.046481Z",
     "iopub.status.idle": "2025-03-28T04:19:47.052447Z",
     "shell.execute_reply": "2025-03-28T04:19:47.051570Z",
     "shell.execute_reply.started": "2025-03-28T04:19:47.046756Z"
    }
   },
   "outputs": [
    {
     "data": {
      "text/plain": [
       "array([[0.8529, 0.7361, 0.6802, 0.6453, 0.6325],\n",
       "       [0.6789, 0.6507, 0.6236, 0.6092, 0.5759],\n",
       "       [0.5928, 0.5823, 0.5798, 0.5732, 0.5694],\n",
       "       [0.5836, 0.5635, 0.    , 0.    , 0.    ],\n",
       "       [0.    , 0.    , 0.    , 0.    , 0.    ],\n",
       "       [0.    , 0.    , 0.    , 0.    , 0.    ],\n",
       "       [0.    , 0.    , 0.    , 0.    , 0.    ],\n",
       "       [0.    , 0.    , 0.    , 0.    , 0.    ],\n",
       "       [0.    , 0.    , 0.    , 0.    , 0.    ],\n",
       "       [0.    , 0.    , 0.    , 0.    , 0.    ]])"
      ]
     },
     "execution_count": 31,
     "metadata": {},
     "output_type": "execute_result"
    }
   ],
   "source": [
    "model.epoch_losses"
   ]
  },
  {
   "cell_type": "code",
   "execution_count": null,
   "id": "16b2c7c5-b2a7-478b-941f-6c14ca173f58",
   "metadata": {},
   "outputs": [],
   "source": []
  },
  {
   "cell_type": "code",
   "execution_count": null,
   "id": "5f59ef4e-e2ff-4683-a356-3890aaa1a816",
   "metadata": {},
   "outputs": [],
   "source": []
  },
  {
   "cell_type": "code",
   "execution_count": null,
   "id": "54fa1d22-88bd-4d18-a332-531626e33baf",
   "metadata": {},
   "outputs": [],
   "source": []
  },
  {
   "cell_type": "code",
   "execution_count": null,
   "id": "03e8ac64-92f1-4b7a-9528-d37138c8a0a8",
   "metadata": {},
   "outputs": [],
   "source": []
  },
  {
   "cell_type": "code",
   "execution_count": null,
   "id": "d818cd81-e0c7-4362-ac6c-f26565b17f05",
   "metadata": {},
   "outputs": [],
   "source": []
  },
  {
   "cell_type": "code",
   "execution_count": null,
   "id": "f3d8d669-718d-451e-b67e-88df9b7b18b7",
   "metadata": {},
   "outputs": [],
   "source": []
  },
  {
   "cell_type": "code",
   "execution_count": null,
   "id": "9b95ffc2-7c81-4390-8f3e-5a742954eb58",
   "metadata": {},
   "outputs": [],
   "source": []
  },
  {
   "cell_type": "code",
   "execution_count": null,
   "id": "a0e16f2b-e893-408f-b47a-1a21d8f39d4f",
   "metadata": {},
   "outputs": [],
   "source": []
  },
  {
   "cell_type": "code",
   "execution_count": null,
   "id": "cb8fdcd5-e6bc-4964-9655-3a0d8a4e9d69",
   "metadata": {},
   "outputs": [],
   "source": []
  },
  {
   "cell_type": "code",
   "execution_count": null,
   "id": "c74d4df4-5d47-483f-a824-d480a75cafb6",
   "metadata": {},
   "outputs": [],
   "source": []
  },
  {
   "cell_type": "code",
   "execution_count": null,
   "id": "a6f6ab71-6611-4628-b624-6f39c051e5f3",
   "metadata": {},
   "outputs": [],
   "source": []
  },
  {
   "cell_type": "code",
   "execution_count": null,
   "id": "37d5d0fb-293e-485a-9579-e3e01f1f4b88",
   "metadata": {},
   "outputs": [],
   "source": []
  },
  {
   "cell_type": "code",
   "execution_count": null,
   "id": "b067ac7b-16b3-4218-a811-03a8768c49ce",
   "metadata": {},
   "outputs": [],
   "source": []
  },
  {
   "cell_type": "code",
   "execution_count": null,
   "id": "6fd53637-9a09-4fa5-88f0-7ca646782041",
   "metadata": {},
   "outputs": [],
   "source": []
  },
  {
   "cell_type": "code",
   "execution_count": null,
   "id": "893de2d9-d764-420c-b244-4b75d0b259dc",
   "metadata": {},
   "outputs": [],
   "source": []
  },
  {
   "cell_type": "code",
   "execution_count": null,
   "id": "d015b93d-0dc0-42d7-b05e-5a9d2043e37b",
   "metadata": {},
   "outputs": [],
   "source": []
  },
  {
   "cell_type": "code",
   "execution_count": null,
   "id": "c13c990a-6c74-46de-bef4-95bd13fbc533",
   "metadata": {},
   "outputs": [],
   "source": []
  },
  {
   "cell_type": "code",
   "execution_count": null,
   "id": "ee650e9b-8643-40b9-b54f-aa2a43c051f9",
   "metadata": {},
   "outputs": [],
   "source": []
  },
  {
   "cell_type": "code",
   "execution_count": null,
   "id": "ac43b017-abe2-4e63-8c92-23a180b78700",
   "metadata": {},
   "outputs": [],
   "source": []
  },
  {
   "cell_type": "code",
   "execution_count": null,
   "id": "2b110561-0a4c-435f-a12a-4e5364e9157b",
   "metadata": {},
   "outputs": [],
   "source": []
  },
  {
   "cell_type": "code",
   "execution_count": null,
   "id": "bcdf52a7-2e8d-41cf-b5a5-8ecf25c7cd39",
   "metadata": {},
   "outputs": [],
   "source": []
  },
  {
   "cell_type": "code",
   "execution_count": null,
   "id": "34df1323-89b5-46a0-be19-ae05619f63d6",
   "metadata": {},
   "outputs": [],
   "source": []
  },
  {
   "cell_type": "code",
   "execution_count": null,
   "id": "12a5255e-b750-4237-a085-acd5ad27cc5e",
   "metadata": {},
   "outputs": [],
   "source": []
  },
  {
   "cell_type": "code",
   "execution_count": null,
   "id": "5aaab586-95da-4fee-bb3f-6b4f8ea2456d",
   "metadata": {},
   "outputs": [],
   "source": []
  },
  {
   "cell_type": "code",
   "execution_count": null,
   "id": "f06af0e3-ecd0-4f64-a0d9-707b7513c3e3",
   "metadata": {},
   "outputs": [],
   "source": [
    "# print(\"Epoch 0: New best model saved with loss 0.8529\")\n"
   ]
  },
  {
   "cell_type": "code",
   "execution_count": 29,
   "id": "09d6075a-41ad-4abf-aafd-d5b31b2c61e5",
   "metadata": {
    "execution": {
     "iopub.execute_input": "2025-03-28T04:06:44.019905Z",
     "iopub.status.busy": "2025-03-28T04:06:44.019616Z",
     "iopub.status.idle": "2025-03-28T04:06:44.024727Z",
     "shell.execute_reply": "2025-03-28T04:06:44.023960Z",
     "shell.execute_reply.started": "2025-03-28T04:06:44.019883Z"
    }
   },
   "outputs": [],
   "source": [
    "import numpy as np\n",
    "\n",
    "model.epoch_losses = np.array([\n",
    "    [0.8529, 0.7361, 0.6802, 0.6453, 0.6325],\n",
    "    [0.6789, 0.6507, 0.6236, 0.6092, 0.5759],\n",
    "    [0.5928, 0.5823, 0.5798, 0.5732, 0.5694],\n",
    "    [0.5836, 0.5635, 0.0, 0.0, 0.0],\n",
    "    [0.0, 0.0, 0.0, 0.0, 0.0],\n",
    "    [0.0, 0.0, 0.0, 0.0, 0.0],\n",
    "    [0.0, 0.0, 0.0, 0.0, 0.0],\n",
    "    [0.0, 0.0, 0.0, 0.0, 0.0],\n",
    "    [0.0, 0.0, 0.0, 0.0, 0.0],\n",
    "    [0.0, 0.0, 0.0, 0.0, 0.0]\n",
    "])\n"
   ]
  },
  {
   "cell_type": "code",
   "execution_count": 30,
   "id": "f9fff1ab-c6fa-4d6c-bc05-5984b5f88707",
   "metadata": {
    "execution": {
     "iopub.execute_input": "2025-03-28T04:06:48.500400Z",
     "iopub.status.busy": "2025-03-28T04:06:48.500076Z",
     "iopub.status.idle": "2025-03-28T04:06:48.506145Z",
     "shell.execute_reply": "2025-03-28T04:06:48.505273Z",
     "shell.execute_reply.started": "2025-03-28T04:06:48.500334Z"
    }
   },
   "outputs": [
    {
     "data": {
      "text/plain": [
       "array([[0.8529, 0.7361, 0.6802, 0.6453, 0.6325],\n",
       "       [0.6789, 0.6507, 0.6236, 0.6092, 0.5759],\n",
       "       [0.5928, 0.5823, 0.5798, 0.5732, 0.5694],\n",
       "       [0.5836, 0.5635, 0.    , 0.    , 0.    ],\n",
       "       [0.    , 0.    , 0.    , 0.    , 0.    ],\n",
       "       [0.    , 0.    , 0.    , 0.    , 0.    ],\n",
       "       [0.    , 0.    , 0.    , 0.    , 0.    ],\n",
       "       [0.    , 0.    , 0.    , 0.    , 0.    ],\n",
       "       [0.    , 0.    , 0.    , 0.    , 0.    ],\n",
       "       [0.    , 0.    , 0.    , 0.    , 0.    ]])"
      ]
     },
     "execution_count": 30,
     "metadata": {},
     "output_type": "execute_result"
    }
   ],
   "source": [
    "model.epoch_losses"
   ]
  },
  {
   "cell_type": "code",
   "execution_count": null,
   "id": "bac970c0-dfc1-4da1-af09-0f8082da4b1f",
   "metadata": {},
   "outputs": [],
   "source": []
  },
  {
   "cell_type": "code",
   "execution_count": null,
   "id": "1345bd18-fc68-4f57-98e0-6ad32ac36b30",
   "metadata": {},
   "outputs": [],
   "source": []
  },
  {
   "cell_type": "code",
   "execution_count": null,
   "id": "c409999f-b1c1-4816-afad-d79912ef916a",
   "metadata": {},
   "outputs": [],
   "source": []
  },
  {
   "cell_type": "code",
   "execution_count": null,
   "id": "6be922df-0dcf-48bd-880c-7b3fb62d6898",
   "metadata": {},
   "outputs": [],
   "source": [
    "import torch\n",
    "import torch.nn as nn\n",
    "import torch.optim as optim\n",
    "import torch.nn.functional as F\n",
    "import numpy as np\n",
    "import matplotlib.pyplot as plt\n",
    "\n",
    "class Encoder(nn.Module):\n",
    "    \"\"\"Encoder for DA-RNN\"\"\"\n",
    "    def __init__(self, input_size, encoder_num_hidden, T):\n",
    "        super(Encoder, self).__init__()\n",
    "        self.T = T\n",
    "        self.encoder_num_hidden = encoder_num_hidden\n",
    "\n",
    "        self.lstm_layer = nn.LSTM(input_size=input_size,\n",
    "                                  hidden_size=encoder_num_hidden,\n",
    "                                  batch_first=True)\n",
    "\n",
    "    def forward(self, X):\n",
    "        _, (h_n, c_n) = self.lstm_layer(X)\n",
    "        return h_n, c_n\n",
    "\n",
    "class Decoder(nn.Module):\n",
    "    \"\"\"Decoder for DA-RNN\"\"\"\n",
    "    def __init__(self, T, decoder_num_hidden, encoder_num_hidden, output_size):\n",
    "        super(Decoder, self).__init__()\n",
    "        self.decoder_num_hidden = decoder_num_hidden\n",
    "        self.encoder_num_hidden = encoder_num_hidden\n",
    "        self.T = T\n",
    "        self.output_size = output_size  \n",
    "\n",
    "        self.attn_layer = nn.Sequential(\n",
    "            nn.Linear(2 * decoder_num_hidden + encoder_num_hidden, encoder_num_hidden),\n",
    "            nn.Tanh(),\n",
    "            nn.Linear(encoder_num_hidden, 1)\n",
    "        )\n",
    "\n",
    "        self.lstm_layer = nn.LSTM(\n",
    "            input_size=encoder_num_hidden + 1,\n",
    "            hidden_size=decoder_num_hidden,\n",
    "            batch_first=True\n",
    "        )\n",
    "\n",
    "        self.fc_final = nn.Linear(decoder_num_hidden + encoder_num_hidden, output_size)\n",
    "\n",
    "    def forward(self, X_encoded, y_prev):\n",
    "        batch_size = X_encoded.shape[0]\n",
    "        d_n = torch.zeros(1, batch_size, self.decoder_num_hidden).to(X_encoded.device)\n",
    "        c_n = torch.zeros(1, batch_size, self.decoder_num_hidden).to(X_encoded.device)\n",
    "\n",
    "        for t in range(y_prev.shape[1]):  \n",
    "            x = torch.cat((d_n.repeat(X_encoded.shape[1], 1, 1).permute(1, 0, 2),\n",
    "                   c_n.repeat(X_encoded.shape[1], 1, 1).permute(1, 0, 2),\n",
    "                   X_encoded), dim=2)\n",
    "\n",
    "            seq_len = X_encoded.shape[1]  \n",
    "            beta = F.softmax(self.attn_layer(x.view(-1, 2 * self.decoder_num_hidden + self.encoder_num_hidden)).view(-1, seq_len), dim=1)\n",
    "            \n",
    "            context = torch.bmm(beta.unsqueeze(1), X_encoded)[:, 0, :]\n",
    "\n",
    "            if t < self.T - 1:\n",
    "                y_tilde = torch.cat((context, y_prev[:, t].unsqueeze(1)), dim=1)\n",
    "                self.lstm_layer.flatten_parameters()\n",
    "                _, (d_n, c_n) = self.lstm_layer(y_tilde.unsqueeze(1), (d_n, c_n))\n",
    "\n",
    "        y_pred = self.fc_final(torch.cat((d_n[0], context), dim=1))\n",
    "        return y_pred\n",
    "\n",
    "class DA_rnn(nn.Module):\n",
    "    \"\"\"DA-RNN model\"\"\"\n",
    "    def __init__(self, X, y, T, encoder_num_hidden, decoder_num_hidden, batch_size, learning_rate, epochs):\n",
    "        super(DA_rnn, self).__init__()\n",
    "        self.encoder_num_hidden = encoder_num_hidden\n",
    "        self.decoder_num_hidden = decoder_num_hidden\n",
    "        self.learning_rate = learning_rate\n",
    "        self.batch_size = batch_size\n",
    "        self.epochs = epochs\n",
    "        self.T = T\n",
    "        self.X = X\n",
    "        self.y = y\n",
    "        self.output_size = y.shape[1]  \n",
    "\n",
    "        self.device = torch.device('cuda' if torch.cuda.is_available() else 'cpu')\n",
    "\n",
    "        self.Encoder = Encoder(input_size=X.shape[2],\n",
    "                               encoder_num_hidden=encoder_num_hidden,\n",
    "                               T=T).to(self.device)\n",
    "\n",
    "        self.Decoder = Decoder(encoder_num_hidden=encoder_num_hidden,\n",
    "                               decoder_num_hidden=decoder_num_hidden,\n",
    "                               T=T,\n",
    "                               output_size=self.output_size).to(self.device)\n",
    "\n",
    "        self.criterion = nn.MSELoss()\n",
    "        self.encoder_optimizer = optim.Adam(self.Encoder.parameters(), lr=self.learning_rate)\n",
    "        self.decoder_optimizer = optim.Adam(self.Decoder.parameters(), lr=self.learning_rate)\n",
    "\n",
    "    def train(self):\n",
    "        iter_per_epoch = int(np.ceil(self.X.shape[0] / self.batch_size))\n",
    "        self.epoch_losses = np.zeros(self.epochs)\n",
    "\n",
    "        for epoch in range(self.epochs):\n",
    "            idx = 0\n",
    "            epoch_loss = 0\n",
    "            while idx < self.X.shape[0]:\n",
    "                indices = np.arange(idx, min(idx + self.batch_size, self.X.shape[0]))\n",
    "                x_batch = self.X[indices].to(self.device)  \n",
    "                y_batch = self.y[indices].to(self.device)  \n",
    "\n",
    "                self.encoder_optimizer.zero_grad()\n",
    "                self.decoder_optimizer.zero_grad()\n",
    "\n",
    "                h_n, c_n = self.Encoder(x_batch)\n",
    "                y_pred = self.Decoder(h_n.permute(1, 0, 2), y_batch[:, :-1, 0])  \n",
    "\n",
    "                loss = self.criterion(y_pred, y_batch[:, -96:, 0])\n",
    "\n",
    "                loss.backward()\n",
    "\n",
    "                self.encoder_optimizer.step()\n",
    "                self.decoder_optimizer.step()\n",
    "\n",
    "                epoch_loss += loss.item()\n",
    "                idx += self.batch_size\n",
    "\n",
    "            self.epoch_losses[epoch] = epoch_loss / iter_per_epoch\n",
    "\n",
    "            if epoch % 10 == 0:\n",
    "                print(f\"Epoch {epoch}/{self.epochs}, Loss: {self.epoch_losses[epoch]:.4f}\")\n",
    "\n",
    "    def test(self, on_train=True):\n",
    "        test_indices = np.arange(0, int(self.X.shape[0] * 0.7)) if on_train else np.arange(int(self.X.shape[0] * 0.7), self.X.shape[0])\n",
    "        X_test = self.X[test_indices].to(self.device)\n",
    "        y_test = self.y[test_indices].to(self.device)\n",
    "\n",
    "        with torch.no_grad():\n",
    "            h_n, c_n = self.Encoder(X_test)\n",
    "            y_pred = self.Decoder(h_n.permute(1, 0, 2), y_test[:, :-1, 0])\n",
    "\n",
    "        return y_pred.cpu().numpy()\n",
    "\n",
    "# Define dataset shapes\n",
    "num_samples = 261983\n",
    "T = 96  # Updated input sequence length\n",
    "future_steps = 96  # Prediction steps\n",
    "\n",
    "# X = np.random.randn(num_samples, T, 1)  # Shape: (samples, 96, features)\n",
    "# y = np.random.randn(num_samples, future_steps, 1)  # Shape: (samples, 96, targets)\n",
    "\n",
    "X_tensor = torch.tensor(X, dtype=torch.float32)\n",
    "y_tensor = torch.tensor(y, dtype=torch.float32)\n",
    "\n",
    "# Initialize DA-RNN with updated sequence length\n",
    "model = DA_rnn(X_tensor, y_tensor, T=T,\n",
    "               encoder_num_hidden=64,\n",
    "               decoder_num_hidden=64,\n",
    "               batch_size=128,\n",
    "               learning_rate=0.001,\n",
    "               epochs=50)\n",
    "\n",
    "# Train model\n",
    "model.train()\n",
    "\n",
    "# Get predictions\n",
    "y_pred = model.test()\n"
   ]
  },
  {
   "cell_type": "code",
   "execution_count": null,
   "id": "bbcd6ed9-630a-4bfb-a3f7-dfe55659185d",
   "metadata": {},
   "outputs": [],
   "source": [
    "y_train_pred = model.test(on_train=True)\n",
    "y_test_pred = model.test(on_train=False)\n",
    "\n",
    "# Plot results\n",
    "plt.figure(figsize=(10, 5))\n",
    "plt.plot(range(len(y_tensor)), y_tensor.numpy()[:, -1, 0], label=\"True Values\")\n",
    "plt.plot(range(T, len(y_train_pred) + T), y_train_pred[:, -1], label=\"Predicted - Train\")\n",
    "plt.plot(range(T + len(y_train_pred), len(y_tensor)), y_test_pred[:, -1], label=\"Predicted - Test\")\n",
    "plt.legend()\n",
    "plt.show()"
   ]
  },
  {
   "cell_type": "code",
   "execution_count": null,
   "id": "ffa3f1fe-5c4b-48c4-baac-9fac5a1fbf8b",
   "metadata": {},
   "outputs": [],
   "source": []
  },
  {
   "cell_type": "code",
   "execution_count": null,
   "id": "4236b0ca-1ff8-45d7-bfea-5a0989d15040",
   "metadata": {},
   "outputs": [],
   "source": []
  },
  {
   "cell_type": "code",
   "execution_count": null,
   "id": "69915f7a-ed90-4d0c-a1f7-0ffe5c30550c",
   "metadata": {},
   "outputs": [],
   "source": []
  },
  {
   "cell_type": "code",
   "execution_count": null,
   "id": "fd472bae-586c-42b2-8683-13ee323dc331",
   "metadata": {},
   "outputs": [],
   "source": []
  },
  {
   "cell_type": "code",
   "execution_count": null,
   "id": "77c045a7-b4dc-4d77-bc35-4476a4053c6e",
   "metadata": {},
   "outputs": [],
   "source": []
  },
  {
   "cell_type": "code",
   "execution_count": null,
   "id": "24257354-63e5-4697-9848-ae3136d8aee7",
   "metadata": {},
   "outputs": [],
   "source": []
  },
  {
   "cell_type": "code",
   "execution_count": null,
   "id": "586df223-0ef8-45af-9152-da8d249dd52e",
   "metadata": {},
   "outputs": [],
   "source": []
  },
  {
   "cell_type": "code",
   "execution_count": null,
   "id": "5e979080-42d3-4c52-b8aa-b3691d048d9d",
   "metadata": {},
   "outputs": [],
   "source": []
  },
  {
   "cell_type": "code",
   "execution_count": null,
   "id": "c6edeaff-c372-4cfd-a564-5235ee6f65d2",
   "metadata": {},
   "outputs": [],
   "source": []
  },
  {
   "cell_type": "code",
   "execution_count": null,
   "id": "7644f2c6-4b80-4892-ae77-934bd1c9fcd8",
   "metadata": {},
   "outputs": [],
   "source": []
  },
  {
   "cell_type": "code",
   "execution_count": null,
   "id": "fd447857-a84c-43a6-afe4-3b5d02878c22",
   "metadata": {},
   "outputs": [],
   "source": []
  },
  {
   "cell_type": "code",
   "execution_count": null,
   "id": "80df97c1-9448-489b-8b96-0ea33da1a1a7",
   "metadata": {},
   "outputs": [],
   "source": []
  },
  {
   "cell_type": "code",
   "execution_count": null,
   "id": "5290b8a1-d524-46cb-945c-7bd08b93d1bb",
   "metadata": {},
   "outputs": [],
   "source": []
  },
  {
   "cell_type": "code",
   "execution_count": null,
   "id": "2cb738d4-1401-43f2-8340-7a07969ba03e",
   "metadata": {},
   "outputs": [],
   "source": []
  },
  {
   "cell_type": "code",
   "execution_count": null,
   "id": "0ae7e977-cf01-4f3e-b3b6-a97f29172982",
   "metadata": {},
   "outputs": [],
   "source": []
  },
  {
   "cell_type": "code",
   "execution_count": null,
   "id": "73472f45-dd51-461f-8950-6437be32fbd7",
   "metadata": {},
   "outputs": [],
   "source": []
  },
  {
   "cell_type": "code",
   "execution_count": null,
   "id": "0a152842-2f4f-4257-ade3-a2db97ec56e6",
   "metadata": {},
   "outputs": [],
   "source": []
  },
  {
   "cell_type": "code",
   "execution_count": null,
   "id": "a99092cc-9e71-46d7-88a8-f7d498ba1c54",
   "metadata": {},
   "outputs": [],
   "source": []
  },
  {
   "cell_type": "code",
   "execution_count": null,
   "id": "62f5e630-5422-4071-a205-afd4ed87cb00",
   "metadata": {},
   "outputs": [],
   "source": []
  },
  {
   "cell_type": "code",
   "execution_count": null,
   "id": "0130208e-af2d-472e-bec4-cbff2ac9fd9f",
   "metadata": {},
   "outputs": [],
   "source": []
  },
  {
   "cell_type": "code",
   "execution_count": null,
   "id": "e1bf5aec-6974-4f41-ad35-2a5a655c14d7",
   "metadata": {},
   "outputs": [],
   "source": []
  },
  {
   "cell_type": "code",
   "execution_count": null,
   "id": "0587d137-6f50-4eaf-a33c-1cf28b675749",
   "metadata": {},
   "outputs": [],
   "source": []
  },
  {
   "cell_type": "code",
   "execution_count": null,
   "id": "f1c94462-8165-4e9d-9dbd-bfc836eefabb",
   "metadata": {},
   "outputs": [],
   "source": []
  },
  {
   "cell_type": "code",
   "execution_count": null,
   "id": "2373f2cb-5c59-4d05-83cd-2089b896ca33",
   "metadata": {},
   "outputs": [],
   "source": []
  },
  {
   "cell_type": "code",
   "execution_count": null,
   "id": "7a1cc0f3-d7b8-4f44-8d65-95574f64dd7a",
   "metadata": {},
   "outputs": [],
   "source": []
  },
  {
   "cell_type": "code",
   "execution_count": null,
   "id": "a5d97ee1-3dee-404f-a639-88675e56d6c9",
   "metadata": {},
   "outputs": [],
   "source": []
  },
  {
   "cell_type": "code",
   "execution_count": null,
   "id": "370481a3-30cc-45e4-b7c7-4c0edfe72103",
   "metadata": {},
   "outputs": [],
   "source": []
  },
  {
   "cell_type": "code",
   "execution_count": null,
   "id": "8f5687e7-b8a9-44c4-bbec-36c6bac0daae",
   "metadata": {},
   "outputs": [],
   "source": []
  },
  {
   "cell_type": "code",
   "execution_count": null,
   "id": "ffea48a1-7af0-42c1-9f52-b178fc60098b",
   "metadata": {},
   "outputs": [],
   "source": []
  },
  {
   "cell_type": "code",
   "execution_count": null,
   "id": "364f6034-bee7-42d8-898a-7671a70ebf99",
   "metadata": {
    "execution": {
     "iopub.execute_input": "2025-03-27T15:43:01.038026Z",
     "iopub.status.busy": "2025-03-27T15:43:01.037740Z"
    }
   },
   "outputs": [
    {
     "data": {
      "text/html": [
       "<div>\n",
       "<style scoped>\n",
       "    .dataframe tbody tr th:only-of-type {\n",
       "        vertical-align: middle;\n",
       "    }\n",
       "\n",
       "    .dataframe tbody tr th {\n",
       "        vertical-align: top;\n",
       "    }\n",
       "\n",
       "    .dataframe thead th {\n",
       "        text-align: right;\n",
       "    }\n",
       "</style>\n",
       "<table border=\"1\" class=\"dataframe\">\n",
       "  <thead>\n",
       "    <tr style=\"text-align: right;\">\n",
       "      <th></th>\n",
       "      <th>Timestamp</th>\n",
       "      <th>TPCODL Demand</th>\n",
       "      <th>TPWODL Demand</th>\n",
       "      <th>TPNODL Demand</th>\n",
       "      <th>TPSOSDL Demand</th>\n",
       "      <th>Total Demand (as recorded)</th>\n",
       "      <th>Renewables Generation (SOLAR)</th>\n",
       "      <th>Frequency</th>\n",
       "      <th>Vedanta Drawl</th>\n",
       "      <th>IMFA Drawl</th>\n",
       "      <th>Year</th>\n",
       "    </tr>\n",
       "  </thead>\n",
       "  <tbody>\n",
       "    <tr>\n",
       "      <th>0</th>\n",
       "      <td>2017-01-01 00:15:00</td>\n",
       "      <td>667.464520</td>\n",
       "      <td>864.831853</td>\n",
       "      <td>690.095240</td>\n",
       "      <td>316.982473</td>\n",
       "      <td>2698.868767</td>\n",
       "      <td>0.000000</td>\n",
       "      <td>49.943313</td>\n",
       "      <td>0.000000</td>\n",
       "      <td>37.319706</td>\n",
       "      <td>2017</td>\n",
       "    </tr>\n",
       "    <tr>\n",
       "      <th>1</th>\n",
       "      <td>2017-01-01 00:30:00</td>\n",
       "      <td>658.739907</td>\n",
       "      <td>914.472587</td>\n",
       "      <td>677.703353</td>\n",
       "      <td>304.819340</td>\n",
       "      <td>2710.682853</td>\n",
       "      <td>0.000000</td>\n",
       "      <td>49.910407</td>\n",
       "      <td>0.000000</td>\n",
       "      <td>38.224953</td>\n",
       "      <td>2017</td>\n",
       "    </tr>\n",
       "    <tr>\n",
       "      <th>2</th>\n",
       "      <td>2017-01-01 00:45:00</td>\n",
       "      <td>671.371067</td>\n",
       "      <td>896.952827</td>\n",
       "      <td>667.577613</td>\n",
       "      <td>303.740260</td>\n",
       "      <td>2696.470040</td>\n",
       "      <td>0.000000</td>\n",
       "      <td>49.969673</td>\n",
       "      <td>0.000000</td>\n",
       "      <td>38.342269</td>\n",
       "      <td>2017</td>\n",
       "    </tr>\n",
       "    <tr>\n",
       "      <th>3</th>\n",
       "      <td>2017-01-01 01:00:00</td>\n",
       "      <td>660.483167</td>\n",
       "      <td>900.725893</td>\n",
       "      <td>660.967327</td>\n",
       "      <td>299.511287</td>\n",
       "      <td>2666.727600</td>\n",
       "      <td>0.000000</td>\n",
       "      <td>50.006467</td>\n",
       "      <td>0.000000</td>\n",
       "      <td>38.361784</td>\n",
       "      <td>2017</td>\n",
       "    </tr>\n",
       "    <tr>\n",
       "      <th>4</th>\n",
       "      <td>2017-01-01 01:15:00</td>\n",
       "      <td>674.012867</td>\n",
       "      <td>893.873213</td>\n",
       "      <td>664.678927</td>\n",
       "      <td>297.976793</td>\n",
       "      <td>2672.076013</td>\n",
       "      <td>0.000000</td>\n",
       "      <td>50.037733</td>\n",
       "      <td>0.000000</td>\n",
       "      <td>37.593236</td>\n",
       "      <td>2017</td>\n",
       "    </tr>\n",
       "    <tr>\n",
       "      <th>...</th>\n",
       "      <td>...</td>\n",
       "      <td>...</td>\n",
       "      <td>...</td>\n",
       "      <td>...</td>\n",
       "      <td>...</td>\n",
       "      <td>...</td>\n",
       "      <td>...</td>\n",
       "      <td>...</td>\n",
       "      <td>...</td>\n",
       "      <td>...</td>\n",
       "      <td>...</td>\n",
       "    </tr>\n",
       "    <tr>\n",
       "      <th>262556</th>\n",
       "      <td>2024-06-30 23:00:00</td>\n",
       "      <td>1641.083594</td>\n",
       "      <td>1504.186149</td>\n",
       "      <td>1233.337565</td>\n",
       "      <td>581.428646</td>\n",
       "      <td>5165.746387</td>\n",
       "      <td>-0.079220</td>\n",
       "      <td>49.986312</td>\n",
       "      <td>415.157408</td>\n",
       "      <td>39.163380</td>\n",
       "      <td>2024</td>\n",
       "    </tr>\n",
       "    <tr>\n",
       "      <th>262557</th>\n",
       "      <td>2024-06-30 23:15:00</td>\n",
       "      <td>1640.811816</td>\n",
       "      <td>1455.060034</td>\n",
       "      <td>1221.078434</td>\n",
       "      <td>581.939876</td>\n",
       "      <td>5104.936882</td>\n",
       "      <td>-0.082628</td>\n",
       "      <td>49.993866</td>\n",
       "      <td>402.441427</td>\n",
       "      <td>48.708497</td>\n",
       "      <td>2024</td>\n",
       "    </tr>\n",
       "    <tr>\n",
       "      <th>262558</th>\n",
       "      <td>2024-06-30 23:30:00</td>\n",
       "      <td>1633.628158</td>\n",
       "      <td>1442.777547</td>\n",
       "      <td>1215.181584</td>\n",
       "      <td>582.640462</td>\n",
       "      <td>5071.101107</td>\n",
       "      <td>-0.098407</td>\n",
       "      <td>50.004394</td>\n",
       "      <td>410.901613</td>\n",
       "      <td>49.223945</td>\n",
       "      <td>2024</td>\n",
       "    </tr>\n",
       "    <tr>\n",
       "      <th>262559</th>\n",
       "      <td>2024-06-30 23:45:00</td>\n",
       "      <td>1611.415023</td>\n",
       "      <td>1428.957731</td>\n",
       "      <td>1180.298690</td>\n",
       "      <td>567.253251</td>\n",
       "      <td>4985.896029</td>\n",
       "      <td>-0.093522</td>\n",
       "      <td>50.025615</td>\n",
       "      <td>404.600972</td>\n",
       "      <td>48.291939</td>\n",
       "      <td>2024</td>\n",
       "    </tr>\n",
       "    <tr>\n",
       "      <th>262560</th>\n",
       "      <td>2024-07-01 00:00:00</td>\n",
       "      <td>1580.772648</td>\n",
       "      <td>1429.864201</td>\n",
       "      <td>1216.548633</td>\n",
       "      <td>576.751860</td>\n",
       "      <td>4989.071322</td>\n",
       "      <td>-0.066155</td>\n",
       "      <td>50.013220</td>\n",
       "      <td>413.020213</td>\n",
       "      <td>48.266840</td>\n",
       "      <td>2024</td>\n",
       "    </tr>\n",
       "  </tbody>\n",
       "</table>\n",
       "<p>262561 rows × 11 columns</p>\n",
       "</div>"
      ],
      "text/plain": [
       "                  Timestamp  TPCODL Demand  TPWODL Demand  TPNODL Demand   \\\n",
       "0       2017-01-01 00:15:00     667.464520     864.831853      690.095240   \n",
       "1       2017-01-01 00:30:00     658.739907     914.472587      677.703353   \n",
       "2       2017-01-01 00:45:00     671.371067     896.952827      667.577613   \n",
       "3       2017-01-01 01:00:00     660.483167     900.725893      660.967327   \n",
       "4       2017-01-01 01:15:00     674.012867     893.873213      664.678927   \n",
       "...                     ...            ...            ...             ...   \n",
       "262556  2024-06-30 23:00:00    1641.083594    1504.186149     1233.337565   \n",
       "262557  2024-06-30 23:15:00    1640.811816    1455.060034     1221.078434   \n",
       "262558  2024-06-30 23:30:00    1633.628158    1442.777547     1215.181584   \n",
       "262559  2024-06-30 23:45:00    1611.415023    1428.957731     1180.298690   \n",
       "262560  2024-07-01 00:00:00    1580.772648    1429.864201     1216.548633   \n",
       "\n",
       "        TPSOSDL Demand  Total Demand (as recorded)  \\\n",
       "0           316.982473                 2698.868767   \n",
       "1           304.819340                 2710.682853   \n",
       "2           303.740260                 2696.470040   \n",
       "3           299.511287                 2666.727600   \n",
       "4           297.976793                 2672.076013   \n",
       "...                ...                         ...   \n",
       "262556      581.428646                 5165.746387   \n",
       "262557      581.939876                 5104.936882   \n",
       "262558      582.640462                 5071.101107   \n",
       "262559      567.253251                 4985.896029   \n",
       "262560      576.751860                 4989.071322   \n",
       "\n",
       "        Renewables Generation (SOLAR)  Frequency  Vedanta Drawl  IMFA Drawl  \\\n",
       "0                            0.000000  49.943313       0.000000   37.319706   \n",
       "1                            0.000000  49.910407       0.000000   38.224953   \n",
       "2                            0.000000  49.969673       0.000000   38.342269   \n",
       "3                            0.000000  50.006467       0.000000   38.361784   \n",
       "4                            0.000000  50.037733       0.000000   37.593236   \n",
       "...                               ...        ...            ...         ...   \n",
       "262556                      -0.079220  49.986312     415.157408   39.163380   \n",
       "262557                      -0.082628  49.993866     402.441427   48.708497   \n",
       "262558                      -0.098407  50.004394     410.901613   49.223945   \n",
       "262559                      -0.093522  50.025615     404.600972   48.291939   \n",
       "262560                      -0.066155  50.013220     413.020213   48.266840   \n",
       "\n",
       "        Year  \n",
       "0       2017  \n",
       "1       2017  \n",
       "2       2017  \n",
       "3       2017  \n",
       "4       2017  \n",
       "...      ...  \n",
       "262556  2024  \n",
       "262557  2024  \n",
       "262558  2024  \n",
       "262559  2024  \n",
       "262560  2024  \n",
       "\n",
       "[262561 rows x 11 columns]"
      ]
     },
     "execution_count": 2,
     "metadata": {},
     "output_type": "execute_result"
    }
   ],
   "source": [
    "df=pd.read_csv(\"/kaggle/input/file-1/file1.csv\",low_memory=False)"
   ]
  },
  {
   "cell_type": "code",
   "execution_count": null,
   "id": "f58e0c68-4733-41bd-a59d-e8210bb3e969",
   "metadata": {},
   "outputs": [],
   "source": []
  },
  {
   "cell_type": "code",
   "execution_count": 3,
   "id": "393db9c7-1a39-4d64-8080-9a73368cd907",
   "metadata": {
    "execution": {
     "iopub.execute_input": "2025-03-27T15:44:06.784340Z",
     "iopub.status.busy": "2025-03-27T15:44:06.784036Z",
     "iopub.status.idle": "2025-03-27T15:44:06.916195Z",
     "shell.execute_reply": "2025-03-27T15:44:06.915190Z",
     "shell.execute_reply.started": "2025-03-27T15:44:06.784316Z"
    }
   },
   "outputs": [
    {
     "ename": "NameError",
     "evalue": "name 'ts_diff1' is not defined",
     "output_type": "error",
     "traceback": [
      "\u001b[0;31m---------------------------------------------------------------------------\u001b[0m",
      "\u001b[0;31mNameError\u001b[0m                                 Traceback (most recent call last)",
      "\u001b[0;32m<ipython-input-3-70982610eb6d>\u001b[0m in \u001b[0;36m<cell line: 2>\u001b[0;34m()\u001b[0m\n\u001b[1;32m      1\u001b[0m \u001b[0;31m# Convert to numpy array\u001b[0m\u001b[0;34m\u001b[0m\u001b[0;34m\u001b[0m\u001b[0m\n\u001b[0;32m----> 2\u001b[0;31m \u001b[0mts_diff1_array\u001b[0m \u001b[0;34m=\u001b[0m \u001b[0mts_diff1\u001b[0m\u001b[0;34m.\u001b[0m\u001b[0mvalues\u001b[0m\u001b[0;34m.\u001b[0m\u001b[0mreshape\u001b[0m\u001b[0;34m(\u001b[0m\u001b[0;34m-\u001b[0m\u001b[0;36m1\u001b[0m\u001b[0;34m,\u001b[0m \u001b[0;36m1\u001b[0m\u001b[0;34m)\u001b[0m  \u001b[0;31m# Ensure it's a 2D array\u001b[0m\u001b[0;34m\u001b[0m\u001b[0;34m\u001b[0m\u001b[0m\n\u001b[0m\u001b[1;32m      3\u001b[0m \u001b[0;34m\u001b[0m\u001b[0m\n\u001b[1;32m      4\u001b[0m \u001b[0;31m# Define past and future windows\u001b[0m\u001b[0;34m\u001b[0m\u001b[0;34m\u001b[0m\u001b[0m\n\u001b[1;32m      5\u001b[0m \u001b[0mpast_window\u001b[0m \u001b[0;34m=\u001b[0m \u001b[0;36m7\u001b[0m \u001b[0;34m*\u001b[0m \u001b[0;36m96\u001b[0m  \u001b[0;31m# Past 7 days (96 timestamps per day)\u001b[0m\u001b[0;34m\u001b[0m\u001b[0;34m\u001b[0m\u001b[0m\n",
      "\u001b[0;31mNameError\u001b[0m: name 'ts_diff1' is not defined"
     ]
    }
   ],
   "source": [
    "\n",
    "# Convert to numpy array\n",
    "ts_diff1_array = ts_diff1.values.reshape(-1, 1)  # Ensure it's a 2D array\n",
    "\n",
    "# Define past and future windows\n",
    "past_window = 7 * 96  # Past 7 days (96 timestamps per day)\n",
    "future_window = 96    # Predict next 24 hours (96 timestamps)\n",
    "\n",
    "# Function to create sequences\n",
    "def create_sequences(data, past_window, future_window):\n",
    "    X, y = [], []\n",
    "    for i in range(len(data) - past_window - future_window):\n",
    "        X.append(data[i:i + past_window])   # Past 7 days\n",
    "        y.append(data[i + past_window:i + past_window + future_window])  # Next 96 timestamps\n",
    "    return np.array(X), np.array(y)\n",
    "\n",
    "# Create sequences\n",
    "X, y = create_sequences(ts_diff1_array, past_window, future_window)\n",
    "\n",
    "print(\"Shape of X:\", X.shape)  # (samples, 672, 1)\n",
    "print(\"Shape of y:\", y.shape)  # (samples, 96, 1)\n"
   ]
  },
  {
   "cell_type": "code",
   "execution_count": 24,
   "id": "71c46346-bd2c-4b11-bc4d-c0784e6a0c88",
   "metadata": {
    "execution": {
     "iopub.execute_input": "2025-02-17T06:41:23.179385Z",
     "iopub.status.busy": "2025-02-17T06:41:23.179134Z",
     "iopub.status.idle": "2025-02-17T06:41:23.187115Z",
     "shell.execute_reply": "2025-02-17T06:41:23.186402Z",
     "shell.execute_reply.started": "2025-02-17T06:41:23.179364Z"
    }
   },
   "outputs": [
    {
     "name": "stdout",
     "output_type": "stream",
     "text": [
      "Train: (183071, 672, 1) (183071, 96, 1)\n",
      "Validation: (39229, 672, 1) (39229, 96, 1)\n",
      "Test: (39231, 672, 1) (39231, 96, 1)\n"
     ]
    }
   ],
   "source": [
    "train_size = int(0.8 * len(X))  # 70% train\n",
    "val_size = int(0.1 * len(X))   # 15% validation\n",
    "test_size = len(X) - train_size - val_size  # Remaining 15% for test\n",
    "\n",
    "X_train, y_train = X[:train_size], y[:train_size]\n",
    "X_val, y_val = X[train_size:train_size + val_size], y[train_size:train_size + val_size]\n",
    "X_test, y_test = X[train_size + val_size:], y[train_size + val_size:]\n",
    "\n",
    "print(\"Train:\", X_train.shape, y_train.shape)\n",
    "print(\"Validation:\", X_val.shape, y_val.shape)\n",
    "print(\"Test:\", X_test.shape, y_test.shape)\n"
   ]
  },
  {
   "cell_type": "code",
   "execution_count": 25,
   "id": "8d7213df-1549-4cfd-9ce5-134f705d30ca",
   "metadata": {
    "execution": {
     "iopub.execute_input": "2025-02-17T06:41:23.188321Z",
     "iopub.status.busy": "2025-02-17T06:41:23.188007Z",
     "iopub.status.idle": "2025-02-17T06:41:24.402659Z",
     "shell.execute_reply": "2025-02-17T06:41:24.401840Z",
     "shell.execute_reply.started": "2025-02-17T06:41:23.188299Z"
    }
   },
   "outputs": [],
   "source": [
    "from sklearn.preprocessing import MinMaxScaler\n",
    "\n",
    "scaler = MinMaxScaler(feature_range=(-1, 1))\n",
    "X_train = scaler.fit_transform(X_train.reshape(-1, 1)).reshape(X_train.shape)\n",
    "X_val = scaler.transform(X_val.reshape(-1, 1)).reshape(X_val.shape)\n",
    "X_test = scaler.transform(X_test.reshape(-1, 1)).reshape(X_test.shape)\n"
   ]
  },
  {
   "cell_type": "code",
   "execution_count": 26,
   "id": "ca99c61d-92c7-4d20-93cd-3ce9db3d6bf6",
   "metadata": {
    "execution": {
     "iopub.execute_input": "2025-02-17T06:41:24.403889Z",
     "iopub.status.busy": "2025-02-17T06:41:24.403558Z",
     "iopub.status.idle": "2025-02-17T06:41:28.467266Z",
     "shell.execute_reply": "2025-02-17T06:41:28.466305Z",
     "shell.execute_reply.started": "2025-02-17T06:41:24.403841Z"
    }
   },
   "outputs": [
    {
     "name": "stdout",
     "output_type": "stream",
     "text": [
      "Using device: cuda\n"
     ]
    }
   ],
   "source": [
    "import torch\n",
    "\n",
    "# Check if GPU is available\n",
    "device = torch.device(\"cuda\" if torch.cuda.is_available() else \"cpu\")\n",
    "print(f\"Using device: {device}\")\n"
   ]
  },
  {
   "cell_type": "code",
   "execution_count": 27,
   "id": "5a13eb2b-c545-4643-9c92-89a2478f7380",
   "metadata": {
    "execution": {
     "iopub.execute_input": "2025-02-17T06:41:28.468698Z",
     "iopub.status.busy": "2025-02-17T06:41:28.468229Z",
     "iopub.status.idle": "2025-02-17T06:41:28.472979Z",
     "shell.execute_reply": "2025-02-17T06:41:28.471939Z",
     "shell.execute_reply.started": "2025-02-17T06:41:28.468674Z"
    }
   },
   "outputs": [],
   "source": [
    "import torch.nn as nn\n",
    "import torch.optim as optim\n",
    "from torch.utils.data import DataLoader, TensorDataset"
   ]
  },
  {
   "cell_type": "code",
   "execution_count": 28,
   "id": "3dbd3295-44de-4128-ae9d-eb657dfafa1f",
   "metadata": {
    "execution": {
     "iopub.execute_input": "2025-02-17T06:41:28.475850Z",
     "iopub.status.busy": "2025-02-17T06:41:28.475596Z",
     "iopub.status.idle": "2025-02-17T06:41:29.492724Z",
     "shell.execute_reply": "2025-02-17T06:41:29.491642Z",
     "shell.execute_reply.started": "2025-02-17T06:41:28.475827Z"
    }
   },
   "outputs": [],
   "source": [
    "# Convert NumPy arrays to PyTorch tensors (without squeezing)\n",
    "X_train_tensor = torch.tensor(X_train, dtype=torch.float32).to(device).squeeze(-1)\n",
    "y_train_tensor = torch.tensor(y_train, dtype=torch.float32).squeeze(-1).to(device)\n",
    "X_val_tensor = torch.tensor(X_val, dtype=torch.float32).to(device).squeeze(-1)\n",
    "y_val_tensor = torch.tensor(y_val, dtype=torch.float32).squeeze(-1).to(device)\n",
    "X_test_tensor = torch.tensor(X_test, dtype=torch.float32).to(device).squeeze(-1)\n",
    "y_test_tensor = torch.tensor(y_test, dtype=torch.float32).squeeze(-1).to(device)\n",
    "\n",
    "\n",
    "train_dataset = TensorDataset(X_train_tensor, y_train_tensor)\n",
    "val_dataset = TensorDataset(X_val_tensor, y_val_tensor)\n",
    "test_dataset = TensorDataset(X_test_tensor, y_test_tensor)\n",
    "\n",
    "train_loader = DataLoader(train_dataset, batch_size=16, shuffle=True)\n",
    "val_loader = DataLoader(val_dataset, batch_size=16, shuffle=False)\n",
    "test_loader = DataLoader(test_dataset, batch_size=16, shuffle=False)\n"
   ]
  },
  {
   "cell_type": "code",
   "execution_count": 29,
   "id": "59643c49-c332-4c9c-b9bd-e37c45338076",
   "metadata": {
    "execution": {
     "iopub.execute_input": "2025-02-17T06:41:29.494224Z",
     "iopub.status.busy": "2025-02-17T06:41:29.493938Z",
     "iopub.status.idle": "2025-02-17T06:41:31.761828Z",
     "shell.execute_reply": "2025-02-17T06:41:31.760920Z",
     "shell.execute_reply.started": "2025-02-17T06:41:29.494200Z"
    }
   },
   "outputs": [
    {
     "name": "stdout",
     "output_type": "stream",
     "text": [
      "LSTMModel(\n",
      "  (lstm): LSTM(1, 128, num_layers=2, batch_first=True)\n",
      "  (fc1): Linear(in_features=128, out_features=64, bias=True)\n",
      "  (fc2): Linear(in_features=64, out_features=96, bias=True)\n",
      ")\n"
     ]
    }
   ],
   "source": [
    "import torch.nn as nn\n",
    "import torch.optim as optim\n",
    "\n",
    "class LSTMModel(nn.Module):\n",
    "    def __init__(self):\n",
    "        super(LSTMModel, self).__init__()\n",
    "        self.lstm = nn.LSTM(input_size=1, hidden_size=128, num_layers=2, batch_first=True)\n",
    "        self.fc1 = nn.Linear(128, 64)  \n",
    "        self.fc2 = nn.Linear(64, 96)  \n",
    "\n",
    "    def forward(self, x):\n",
    "        lstm_out, _ = self.lstm(x)\n",
    "        last_output = lstm_out[:, -1, :]  \n",
    "        x = self.fc1(last_output)        \n",
    "        x = self.fc2(x)\n",
    "        return x\n",
    "\n",
    "model = LSTMModel().to(device)\n",
    "\n",
    "# Define loss function and optimizer\n",
    "criterion = nn.MSELoss()\n",
    "optimizer = optim.Adam(model.parameters(), lr=0.001)\n",
    "print(model)"
   ]
  },
  {
   "cell_type": "code",
   "execution_count": 30,
   "id": "972a6c0d-2280-4f96-912d-7a7b0a96bba0",
   "metadata": {
    "execution": {
     "iopub.execute_input": "2025-02-17T06:41:31.763369Z",
     "iopub.status.busy": "2025-02-17T06:41:31.762796Z",
     "iopub.status.idle": "2025-02-17T07:31:05.215769Z",
     "shell.execute_reply": "2025-02-17T07:31:05.215001Z",
     "shell.execute_reply.started": "2025-02-17T06:41:31.763330Z"
    }
   },
   "outputs": [
    {
     "name": "stdout",
     "output_type": "stream",
     "text": [
      "Epoch 1/20, Train Loss: 4840.4326, Val Loss: 5951.2622\n",
      "Epoch 2/20, Train Loss: 4084.2579, Val Loss: 5619.2842\n",
      "Epoch 3/20, Train Loss: 3873.4049, Val Loss: 5585.1093\n",
      "Epoch 4/20, Train Loss: 3788.0774, Val Loss: 5293.2811\n",
      "Epoch 5/20, Train Loss: 3729.3736, Val Loss: 5422.9913\n",
      "Epoch 6/20, Train Loss: 3566.6858, Val Loss: 5429.8819\n",
      "Epoch 7/20, Train Loss: 3640.5229, Val Loss: 5029.2975\n",
      "Epoch 8/20, Train Loss: 3623.6841, Val Loss: 5096.0841\n",
      "Epoch 9/20, Train Loss: 3779.0578, Val Loss: 5742.8543\n",
      "Epoch 10/20, Train Loss: 4012.6754, Val Loss: 5432.6580\n",
      "Epoch 11/20, Train Loss: 3697.8184, Val Loss: 5170.6342\n",
      "Epoch 12/20, Train Loss: 3402.8268, Val Loss: 4949.8977\n",
      "Epoch 13/20, Train Loss: 3263.7542, Val Loss: 4886.5263\n",
      "Epoch 14/20, Train Loss: 3204.0284, Val Loss: 4880.9537\n",
      "Epoch 15/20, Train Loss: 3777.6202, Val Loss: 5569.2753\n",
      "Epoch 16/20, Train Loss: 3821.6385, Val Loss: 6253.0839\n",
      "Epoch 17/20, Train Loss: 3384.9318, Val Loss: 4973.1636\n",
      "Epoch 18/20, Train Loss: 3272.8173, Val Loss: 4904.0725\n",
      "Epoch 19/20, Train Loss: 3178.3709, Val Loss: 4928.8188\n",
      "Epoch 20/20, Train Loss: 3138.3942, Val Loss: 4925.2177\n"
     ]
    }
   ],
   "source": [
    "# Training loop\n",
    "epochs = 20\n",
    "for epoch in range(epochs):\n",
    "    model.train()\n",
    "    train_loss = 0.0\n",
    "\n",
    "    for X_batch, y_batch in train_loader:\n",
    "        X_batch = X_batch.unsqueeze(-1)  # Ensure shape (batch_size, 672, 1)\n",
    "        y_batch = y_batch.squeeze(-1)  # Ensure shape (batch_size, 96)\n",
    "\n",
    "        optimizer.zero_grad()\n",
    "        y_pred = model(X_batch)\n",
    "        loss = criterion(y_pred, y_batch)\n",
    "        loss.backward()\n",
    "        optimizer.step()\n",
    "        train_loss += loss.item()\n",
    "\n",
    "    avg_train_loss = train_loss / len(train_loader)\n",
    "\n",
    "    # Validation\n",
    "    model.eval()\n",
    "    val_loss = 0.0\n",
    "    with torch.no_grad():\n",
    "        for X_batch, y_batch in val_loader:\n",
    "            X_batch = X_batch.unsqueeze(-1)\n",
    "            y_batch = y_batch.squeeze(-1)\n",
    "\n",
    "            y_pred = model(X_batch)\n",
    "            loss = criterion(y_pred, y_batch)\n",
    "            val_loss += loss.item()\n",
    "\n",
    "    avg_val_loss = val_loss / len(val_loader)\n",
    "    print(f\"Epoch {epoch+1}/{epochs}, Train Loss: {avg_train_loss:.4f}, Val Loss: {avg_val_loss:.4f}\")\n"
   ]
  },
  {
   "cell_type": "code",
   "execution_count": 32,
   "id": "837e804b-82e5-43d0-a7bf-bc6fc45c94cd",
   "metadata": {
    "execution": {
     "iopub.execute_input": "2025-02-17T07:45:51.928220Z",
     "iopub.status.busy": "2025-02-17T07:45:51.927893Z",
     "iopub.status.idle": "2025-02-17T07:45:52.379764Z",
     "shell.execute_reply": "2025-02-17T07:45:52.378985Z",
     "shell.execute_reply.started": "2025-02-17T07:45:51.928196Z"
    }
   },
   "outputs": [
    {
     "data": {
      "text/plain": [
       "tensor([[-20.9803, -23.1710, -19.4476,  ..., -29.8462, -25.3623, -19.7807],\n",
       "        [-20.2425, -11.7367,  -9.7647,  ..., -28.2080, -34.1514, -31.2756],\n",
       "        [-16.3480,  -5.4226,  -7.4677,  ..., -26.6044, -35.7249, -32.6047],\n",
       "        ...,\n",
       "        [  2.0496,   1.7579,  -7.0994,  ..., -22.3110, -14.5401,  -9.8429],\n",
       "        [ 22.6271,  11.1301, -11.6627,  ...,  -9.6956,   0.0738,   7.6458],\n",
       "        [ 18.6826,  -2.4058, -26.7900,  ...,  -6.2968,   7.7054,  14.6039]],\n",
       "       device='cuda:0')"
      ]
     },
     "execution_count": 32,
     "metadata": {},
     "output_type": "execute_result"
    }
   ],
   "source": [
    "y_pred"
   ]
  },
  {
   "cell_type": "code",
   "execution_count": 37,
   "id": "e564162e-3908-44be-b443-d9b7ab0aeb72",
   "metadata": {
    "execution": {
     "iopub.execute_input": "2025-02-17T07:52:20.277607Z",
     "iopub.status.busy": "2025-02-17T07:52:20.277255Z",
     "iopub.status.idle": "2025-02-17T07:52:20.282675Z",
     "shell.execute_reply": "2025-02-17T07:52:20.281812Z",
     "shell.execute_reply.started": "2025-02-17T07:52:20.277580Z"
    }
   },
   "outputs": [
    {
     "data": {
      "text/plain": [
       "torch.Size([13, 96])"
      ]
     },
     "execution_count": 37,
     "metadata": {},
     "output_type": "execute_result"
    }
   ],
   "source": [
    "y_batch.shape"
   ]
  },
  {
   "cell_type": "code",
   "execution_count": 38,
   "id": "80531b21-a809-4975-a78f-33e8ec45f35d",
   "metadata": {
    "execution": {
     "iopub.execute_input": "2025-02-17T07:52:52.634417Z",
     "iopub.status.busy": "2025-02-17T07:52:52.634107Z",
     "iopub.status.idle": "2025-02-17T07:52:52.821343Z",
     "shell.execute_reply": "2025-02-17T07:52:52.820375Z",
     "shell.execute_reply.started": "2025-02-17T07:52:52.634396Z"
    }
   },
   "outputs": [
    {
     "data": {
      "image/png": "[encoded data removed]",
      "text/plain": [
       "<Figure size 1000x500 with 1 Axes>"
      ]
     },
     "metadata": {},
     "output_type": "display_data"
    }
   ],
   "source": [
    "# Move tensors to CPU and convert to NumPy arrays\n",
    "y_batch_cpu = y_batch.cpu().numpy()\n",
    "y_pred_cpu = y_pred.cpu().numpy()\n",
    "\n",
    "# Now plot the data\n",
    "plt.figure(figsize=(10, 5))\n",
    "plt.plot(y_batch_cpu[0], label=\"Actual\", linestyle=\"dashed\")\n",
    "plt.plot(y_pred_cpu[0], label=\"Predicted\")\n",
    "plt.legend()\n",
    "plt.title(\"GRU Model: Electricity Demand Forecast\")\n",
    "plt.show()\n"
   ]
  },
  {
   "cell_type": "code",
   "execution_count": null,
   "id": "6777784e-92d9-4079-8b05-fc282e7db8f7",
   "metadata": {},
   "outputs": [],
   "source": []
  },
  {
   "cell_type": "code",
   "execution_count": 39,
   "id": "384f41e0-23e9-42f4-8263-967acb8cbf50",
   "metadata": {
    "execution": {
     "iopub.execute_input": "2025-02-17T07:56:03.122661Z",
     "iopub.status.busy": "2025-02-17T07:56:03.122263Z",
     "iopub.status.idle": "2025-02-17T07:56:04.290038Z",
     "shell.execute_reply": "2025-02-17T07:56:04.289207Z",
     "shell.execute_reply.started": "2025-02-17T07:56:03.122629Z"
    }
   },
   "outputs": [
    {
     "name": "stdout",
     "output_type": "stream",
     "text": [
      "Shape of X: (260859, 1344, 1)\n",
      "Shape of y: (260859, 96, 1)\n"
     ]
    }
   ],
   "source": [
    "\n",
    "# Convert to numpy array\n",
    "ts_diff1_array = ts_diff1.values.reshape(-1, 1)  # Ensure it's a 2D array\n",
    "\n",
    "# Define past and future windows\n",
    "past_window = 14 * 96  # Past 7 days (96 timestamps per day)\n",
    "future_window = 96    # Predict next 24 hours (96 timestamps)\n",
    "\n",
    "# Function to create sequences\n",
    "def create_sequences(data, past_window, future_window):\n",
    "    X, y = [], []\n",
    "    for i in range(len(data) - past_window - future_window):\n",
    "        X.append(data[i:i + past_window])   # Past 7 days\n",
    "        y.append(data[i + past_window:i + past_window + future_window])  # Next 96 timestamps\n",
    "    return np.array(X), np.array(y)\n",
    "\n",
    "# Create sequences\n",
    "X, y = create_sequences(ts_diff1_array, past_window, future_window)\n",
    "\n",
    "print(\"Shape of X:\", X.shape)  # (samples, 672, 1)\n",
    "print(\"Shape of y:\", y.shape)  # (samples, 96, 1)\n"
   ]
  },
  {
   "cell_type": "code",
   "execution_count": 41,
   "id": "dec84c85-f5b2-4b80-aa7d-3368395701b2",
   "metadata": {
    "execution": {
     "iopub.execute_input": "2025-02-17T07:56:10.176561Z",
     "iopub.status.busy": "2025-02-17T07:56:10.176209Z",
     "iopub.status.idle": "2025-02-17T07:56:10.188719Z",
     "shell.execute_reply": "2025-02-17T07:56:10.188045Z",
     "shell.execute_reply.started": "2025-02-17T07:56:10.176532Z"
    }
   },
   "outputs": [
    {
     "name": "stdout",
     "output_type": "stream",
     "text": [
      "Train: (208687, 1344, 1) (208687, 96, 1)\n",
      "Validation: (26085, 1344, 1) (26085, 96, 1)\n",
      "Test: (26087, 1344, 1) (26087, 96, 1)\n"
     ]
    }
   ],
   "source": [
    "train_size = int(0.8 * len(X))  \n",
    "val_size = int(0.1 * len(X))   \n",
    "test_size = len(X) - train_size - val_size  \n",
    "\n",
    "X_train, y_train = X[:train_size], y[:train_size]\n",
    "X_val, y_val = X[train_size:train_size + val_size], y[train_size:train_size + val_size]\n",
    "X_test, y_test = X[train_size + val_size:], y[train_size + val_size:]\n",
    "\n",
    "print(\"Train:\", X_train.shape, y_train.shape)\n",
    "print(\"Validation:\", X_val.shape, y_val.shape)\n",
    "print(\"Test:\", X_test.shape, y_test.shape)\n"
   ]
  },
  {
   "cell_type": "code",
   "execution_count": 42,
   "id": "bcb9dfb1-f275-48a9-82d5-d9c2c06c9cfd",
   "metadata": {
    "execution": {
     "iopub.execute_input": "2025-02-17T07:56:12.741532Z",
     "iopub.status.busy": "2025-02-17T07:56:12.741214Z",
     "iopub.status.idle": "2025-02-17T07:56:14.974177Z",
     "shell.execute_reply": "2025-02-17T07:56:14.973185Z",
     "shell.execute_reply.started": "2025-02-17T07:56:12.741508Z"
    }
   },
   "outputs": [],
   "source": [
    "from sklearn.preprocessing import MinMaxScaler\n",
    "\n",
    "scaler = MinMaxScaler(feature_range=(-1, 1))\n",
    "X_train = scaler.fit_transform(X_train.reshape(-1, 1)).reshape(X_train.shape)\n",
    "X_val = scaler.transform(X_val.reshape(-1, 1)).reshape(X_val.shape)\n",
    "X_test = scaler.transform(X_test.reshape(-1, 1)).reshape(X_test.shape)\n"
   ]
  },
  {
   "cell_type": "code",
   "execution_count": 43,
   "id": "5314caa2-dd15-4f3d-aa87-2dd0a00ee2b9",
   "metadata": {
    "execution": {
     "iopub.execute_input": "2025-02-17T07:56:19.345245Z",
     "iopub.status.busy": "2025-02-17T07:56:19.344908Z",
     "iopub.status.idle": "2025-02-17T07:56:19.350311Z",
     "shell.execute_reply": "2025-02-17T07:56:19.349426Z",
     "shell.execute_reply.started": "2025-02-17T07:56:19.345216Z"
    }
   },
   "outputs": [
    {
     "name": "stdout",
     "output_type": "stream",
     "text": [
      "Using device: cuda\n"
     ]
    }
   ],
   "source": [
    "import torch\n",
    "\n",
    "# Check if GPU is available\n",
    "device = torch.device(\"cuda\" if torch.cuda.is_available() else \"cpu\")\n",
    "print(f\"Using device: {device}\")\n"
   ]
  },
  {
   "cell_type": "code",
   "execution_count": 44,
   "id": "47fb076a-37cb-43d2-9601-860de270c625",
   "metadata": {
    "execution": {
     "iopub.execute_input": "2025-02-17T07:56:20.882342Z",
     "iopub.status.busy": "2025-02-17T07:56:20.881955Z",
     "iopub.status.idle": "2025-02-17T07:56:20.886619Z",
     "shell.execute_reply": "2025-02-17T07:56:20.885648Z",
     "shell.execute_reply.started": "2025-02-17T07:56:20.882312Z"
    }
   },
   "outputs": [],
   "source": [
    "import torch.nn as nn\n",
    "import torch.optim as optim\n",
    "from torch.utils.data import DataLoader, TensorDataset"
   ]
  },
  {
   "cell_type": "code",
   "execution_count": 45,
   "id": "4489ade4-7048-4d49-ba87-06266067a1ab",
   "metadata": {
    "execution": {
     "iopub.execute_input": "2025-02-17T07:56:22.246069Z",
     "iopub.status.busy": "2025-02-17T07:56:22.245744Z",
     "iopub.status.idle": "2025-02-17T07:56:23.457191Z",
     "shell.execute_reply": "2025-02-17T07:56:23.456160Z",
     "shell.execute_reply.started": "2025-02-17T07:56:22.246043Z"
    }
   },
   "outputs": [],
   "source": [
    "# Convert NumPy arrays to PyTorch tensors (without squeezing)\n",
    "X_train_tensor = torch.tensor(X_train, dtype=torch.float32).to(device).squeeze(-1)\n",
    "y_train_tensor = torch.tensor(y_train, dtype=torch.float32).squeeze(-1).to(device)\n",
    "X_val_tensor = torch.tensor(X_val, dtype=torch.float32).to(device).squeeze(-1)\n",
    "y_val_tensor = torch.tensor(y_val, dtype=torch.float32).squeeze(-1).to(device)\n",
    "X_test_tensor = torch.tensor(X_test, dtype=torch.float32).to(device).squeeze(-1)\n",
    "y_test_tensor = torch.tensor(y_test, dtype=torch.float32).squeeze(-1).to(device)\n",
    "\n",
    "\n",
    "train_dataset = TensorDataset(X_train_tensor, y_train_tensor)\n",
    "val_dataset = TensorDataset(X_val_tensor, y_val_tensor)\n",
    "test_dataset = TensorDataset(X_test_tensor, y_test_tensor)\n",
    "\n",
    "train_loader = DataLoader(train_dataset, batch_size=16, shuffle=True)\n",
    "val_loader = DataLoader(val_dataset, batch_size=16, shuffle=False)\n",
    "test_loader = DataLoader(test_dataset, batch_size=16, shuffle=False)\n"
   ]
  },
  {
   "cell_type": "code",
   "execution_count": 46,
   "id": "39957575-81a2-4957-a0c5-7d287540863b",
   "metadata": {
    "execution": {
     "iopub.execute_input": "2025-02-17T07:57:15.896596Z",
     "iopub.status.busy": "2025-02-17T07:57:15.896200Z",
     "iopub.status.idle": "2025-02-17T07:57:15.913499Z",
     "shell.execute_reply": "2025-02-17T07:57:15.912546Z",
     "shell.execute_reply.started": "2025-02-17T07:57:15.896565Z"
    }
   },
   "outputs": [
    {
     "name": "stdout",
     "output_type": "stream",
     "text": [
      "BiLSTMModel(\n",
      "  (bilstm): LSTM(1, 128, num_layers=2, batch_first=True, bidirectional=True)\n",
      "  (fc1): Linear(in_features=256, out_features=64, bias=True)\n",
      "  (fc2): Linear(in_features=64, out_features=96, bias=True)\n",
      ")\n"
     ]
    }
   ],
   "source": [
    "import torch.nn as nn\n",
    "import torch.optim as optim\n",
    "\n",
    "class BiLSTMModel(nn.Module):\n",
    "    def __init__(self):\n",
    "        super(BiLSTMModel, self).__init__()\n",
    "        # BiLSTM layer with bidirectional=True\n",
    "        self.bilstm = nn.LSTM(input_size=1, hidden_size=128, num_layers=2, batch_first=True, bidirectional=True)\n",
    "        self.fc1 = nn.Linear(128 * 2, 64)  # 128 * 2 because the LSTM is bidirectional\n",
    "        self.fc2 = nn.Linear(64, 96)\n",
    "\n",
    "    def forward(self, x):\n",
    "        # Pass through BiLSTM\n",
    "        bilstm_out, _ = self.bilstm(x)\n",
    "        last_output = bilstm_out[:, -1, :]  # Get the last output\n",
    "        x = self.fc1(last_output)\n",
    "        x = self.fc2(x)\n",
    "        return x\n",
    "\n",
    "model = BiLSTMModel().to(device)\n",
    "\n",
    "# Define loss function and optimizer\n",
    "criterion = nn.MSELoss()\n",
    "optimizer = optim.Adam(model.parameters(), lr=0.001)\n",
    "print(model)\n"
   ]
  },
  {
   "cell_type": "code",
   "execution_count": null,
   "id": "48bb8e24-217d-4aae-947d-dbb4d98f9d27",
   "metadata": {
    "execution": {
     "execution_failed": "2025-02-17T11:36:57.379Z",
     "iopub.execute_input": "2025-02-17T07:57:32.945110Z",
     "iopub.status.busy": "2025-02-17T07:57:32.944816Z"
    }
   },
   "outputs": [
    {
     "name": "stdout",
     "output_type": "stream",
     "text": [
      "Epoch 1/20, Train Loss: 4451.9646, Val Loss: 6027.6586\n",
      "Epoch 2/20, Train Loss: 4444.6167, Val Loss: 5570.3329\n",
      "Epoch 3/20, Train Loss: 4135.9552, Val Loss: 5164.3036\n",
      "Epoch 4/20, Train Loss: 4028.5709, Val Loss: 5341.2360\n",
      "Epoch 5/20, Train Loss: 4209.5320, Val Loss: 5372.4061\n",
      "Epoch 6/20, Train Loss: 4098.9898, Val Loss: 6074.8483\n",
      "Epoch 7/20, Train Loss: 4410.1689, Val Loss: 6058.4327\n"
     ]
    }
   ],
   "source": [
    "# Training loop\n",
    "epochs = 20\n",
    "for epoch in range(epochs):\n",
    "    model.train()\n",
    "    train_loss = 0.0\n",
    "\n",
    "    for X_batch, y_batch in train_loader:\n",
    "        X_batch = X_batch.unsqueeze(-1)  # Ensure shape (batch_size, 672, 1)\n",
    "        y_batch = y_batch.squeeze(-1)  # Ensure shape (batch_size, 96)\n",
    "\n",
    "        optimizer.zero_grad()\n",
    "        y_pred = model(X_batch)\n",
    "        loss = criterion(y_pred, y_batch)\n",
    "        loss.backward()\n",
    "        optimizer.step()\n",
    "        train_loss += loss.item()\n",
    "\n",
    "    avg_train_loss = train_loss / len(train_loader)\n",
    "\n",
    "    # Validation\n",
    "    model.eval()\n",
    "    val_loss = 0.0\n",
    "    with torch.no_grad():\n",
    "        for X_batch, y_batch in val_loader:\n",
    "            X_batch = X_batch.unsqueeze(-1)\n",
    "            y_batch = y_batch.squeeze(-1)\n",
    "\n",
    "            y_pred = model(X_batch)\n",
    "            loss = criterion(y_pred, y_batch)\n",
    "            val_loss += loss.item()\n",
    "\n",
    "    avg_val_loss = val_loss / len(val_loader)\n",
    "    print(f\"Epoch {epoch+1}/{epochs}, Train Loss: {avg_train_loss:.4f}, Val Loss: {avg_val_loss:.4f}\")\n"
   ]
  },
  {
   "cell_type": "code",
   "execution_count": 31,
   "id": "e3bff6a3-0e98-4f5f-bc26-e86cf634989b",
   "metadata": {
    "execution": {
     "iopub.execute_input": "2025-02-17T07:31:05.216819Z",
     "iopub.status.busy": "2025-02-17T07:31:05.216585Z",
     "iopub.status.idle": "2025-02-17T07:31:05.228831Z",
     "shell.execute_reply": "2025-02-17T07:31:05.228204Z",
     "shell.execute_reply.started": "2025-02-17T07:31:05.216796Z"
    }
   },
   "outputs": [],
   "source": [
    "checkpoint = {\n",
    "    'model_state_dict': model.state_dict(),\n",
    "    'optimizer_state_dict': optimizer.state_dict(),\n",
    "    'epoch': epoch,  # Save the current epoch\n",
    "    'loss': loss,  # Save the last loss\n",
    "}\n",
    "\n",
    "torch.save(checkpoint, \"model_checkpoint.pth\")"
   ]
  },
  {
   "cell_type": "code",
   "execution_count": null,
   "id": "165e1a53-0c33-4587-948c-ba106f0c9856",
   "metadata": {},
   "outputs": [],
   "source": []
  },
  {
   "cell_type": "code",
   "execution_count": null,
   "id": "d6450c55-d899-462c-9380-dea3aaaa5be9",
   "metadata": {},
   "outputs": [],
   "source": []
  },
  {
   "cell_type": "code",
   "execution_count": null,
   "id": "e7ced7df-4287-4715-a6dd-6c20bc22d3f6",
   "metadata": {},
   "outputs": [],
   "source": []
  },
  {
   "cell_type": "code",
   "execution_count": null,
   "id": "55c45e18-bd9c-4e3d-94fd-317f179d000f",
   "metadata": {},
   "outputs": [],
   "source": []
  },
  {
   "cell_type": "code",
   "execution_count": null,
   "id": "abe2b1ee-78ec-4368-998f-6306c5ee5952",
   "metadata": {},
   "outputs": [],
   "source": []
  }
 ],
 "metadata": {
  "kaggle": {
   "accelerator": "gpu",
   "dataSources": [
    {
     "datasetId": 6680663,
     "sourceId": 10769263,
     "sourceType": "datasetVersion"
    },
    {
     "datasetId": 6985053,
     "sourceId": 11189127,
     "sourceType": "datasetVersion"
    },
    {
     "isSourceIdPinned": true,
     "modelId": 290961,
     "modelInstanceId": 269974,
     "sourceId": 320032,
     "sourceType": "modelInstanceVersion"
    }
   ],
   "dockerImageVersionId": 30887,
   "isGpuEnabled": true,
   "isInternetEnabled": true,
   "language": "python",
   "sourceType": "notebook"
  },
  "kernelspec": {
   "display_name": "Python 3 (ipykernel)",
   "language": "python",
   "name": "python3"
  },
  "language_info": {
   "codemirror_mode": {
    "name": "ipython",
    "version": 3
   },
   "file_extension": ".py",
   "mimetype": "text/x-python",
   "name": "python",
   "nbconvert_exporter": "python",
   "pygments_lexer": "ipython3",
   "version": "3.9.20"
  }
 },
 "nbformat": 4,
 "nbformat_minor": 5
}
